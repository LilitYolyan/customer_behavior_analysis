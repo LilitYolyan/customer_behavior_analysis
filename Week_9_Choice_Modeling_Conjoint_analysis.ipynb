{
 "cells": [
  {
   "cell_type": "markdown",
   "metadata": {},
   "source": [
    "# Choice Modeling: Conjoint Analysis"
   ]
  },
  {
   "cell_type": "markdown",
   "metadata": {},
   "source": [
    "A marketing manager faces a common problem—how do customers evaluate various tangible or intangible attributes offered by a particular product(ex TV)? Now, he or she will have to make a judgement about his preference for various attribute combinations such as brand image, flat screen, screen size, sound quality, picture quality, price of different models, and so on. Conjoint analysis provides an answer to this question. The main objective of conjoint analysis is to find out the attributes of the product that a respondent prefers most.\n",
    "<br>\n",
    "<br>\n",
    "Conjoint analysis determines the relative importance of various product attributes (attached by the consumers to different product attributes) and values (utilities) attached to different levels of these attributes.\n",
    "<br> <br>\n",
    "In fact, conjoint analysis asks the participants to give an overall evaluation of the product that vary systematically on a number of attributes.\n",
    "<br> <br>\n",
    "To formulate a problem, as a first step, a researcher must identify the various attributes and attribute levels.\n"
   ]
  },
  {
   "cell_type": "markdown",
   "metadata": {},
   "source": [
    "![](docs/cjoint.PNG)"
   ]
  },
  {
   "cell_type": "markdown",
   "metadata": {},
   "source": [
    "The conjoint analysis model can be represented by the following formula:\n"
   ]
  },
  {
   "cell_type": "markdown",
   "metadata": {},
   "source": [
    "![](docs/cjoinform.PNG)"
   ]
  },
  {
   "cell_type": "markdown",
   "metadata": {},
   "source": [
    "where U(x) is the utility of an alternative, uij the part-worth contribution (utility of jth level of ith attribute), ki the number of levels for attribute i, and m the number of attributes. xij = 1 if the jth level of the ith attribute is present and xij = 0 otherwise.\n",
    "<br> <br>\n",
    "Importance of an attribute (Ri) = [maximum(uij) − minimum(uij)]\n",
    "<br> \n",
    "\n",
    "To estimate the model, a variety of techniques are available. The most popular and widely applied technique is dummy variable regression technique. To analyse the conjoint analysis data, dummy variables are treated as independent or explanatory variables and preference rating obtained from the respondent is treated as dependent variable."
   ]
  },
  {
   "cell_type": "code",
   "execution_count": 3,
   "metadata": {},
   "outputs": [],
   "source": [
    "import numpy as np\n",
    "import pandas as pd\n",
    "import statsmodels.api as sm\n",
    "import seaborn as sns\n",
    "import matplotlib.pyplot as plt"
   ]
  },
  {
   "cell_type": "code",
   "execution_count": 4,
   "metadata": {},
   "outputs": [],
   "source": [
    "df = pd.read_csv('https://dataverse.harvard.edu/api/access/datafile/2445996?format=tab&gbrecs=true', delimiter='\\t')"
   ]
  },
  {
   "cell_type": "code",
   "execution_count": 5,
   "metadata": {},
   "outputs": [
    {
     "data": {
      "text/html": [
       "<div>\n",
       "<style scoped>\n",
       "    .dataframe tbody tr th:only-of-type {\n",
       "        vertical-align: middle;\n",
       "    }\n",
       "\n",
       "    .dataframe tbody tr th {\n",
       "        vertical-align: top;\n",
       "    }\n",
       "\n",
       "    .dataframe thead th {\n",
       "        text-align: right;\n",
       "    }\n",
       "</style>\n",
       "<table border=\"1\" class=\"dataframe\">\n",
       "  <thead>\n",
       "    <tr style=\"text-align: right;\">\n",
       "      <th></th>\n",
       "      <th>resID</th>\n",
       "      <th>atmilitary</th>\n",
       "      <th>atreligion</th>\n",
       "      <th>ated</th>\n",
       "      <th>atprof</th>\n",
       "      <th>atinc</th>\n",
       "      <th>atrace</th>\n",
       "      <th>atage</th>\n",
       "      <th>atmale</th>\n",
       "      <th>selected</th>\n",
       "      <th>rating</th>\n",
       "    </tr>\n",
       "  </thead>\n",
       "  <tbody>\n",
       "    <tr>\n",
       "      <th>0</th>\n",
       "      <td>383</td>\n",
       "      <td>1</td>\n",
       "      <td>6</td>\n",
       "      <td>3</td>\n",
       "      <td>6</td>\n",
       "      <td>6</td>\n",
       "      <td>1</td>\n",
       "      <td>6</td>\n",
       "      <td>2</td>\n",
       "      <td>0</td>\n",
       "      <td>0.333333</td>\n",
       "    </tr>\n",
       "    <tr>\n",
       "      <th>1</th>\n",
       "      <td>383</td>\n",
       "      <td>2</td>\n",
       "      <td>1</td>\n",
       "      <td>1</td>\n",
       "      <td>4</td>\n",
       "      <td>3</td>\n",
       "      <td>6</td>\n",
       "      <td>4</td>\n",
       "      <td>1</td>\n",
       "      <td>1</td>\n",
       "      <td>0.500000</td>\n",
       "    </tr>\n",
       "    <tr>\n",
       "      <th>2</th>\n",
       "      <td>383</td>\n",
       "      <td>1</td>\n",
       "      <td>3</td>\n",
       "      <td>5</td>\n",
       "      <td>5</td>\n",
       "      <td>1</td>\n",
       "      <td>2</td>\n",
       "      <td>5</td>\n",
       "      <td>2</td>\n",
       "      <td>1</td>\n",
       "      <td>0.666667</td>\n",
       "    </tr>\n",
       "    <tr>\n",
       "      <th>3</th>\n",
       "      <td>383</td>\n",
       "      <td>2</td>\n",
       "      <td>4</td>\n",
       "      <td>5</td>\n",
       "      <td>3</td>\n",
       "      <td>2</td>\n",
       "      <td>1</td>\n",
       "      <td>6</td>\n",
       "      <td>1</td>\n",
       "      <td>0</td>\n",
       "      <td>0.666667</td>\n",
       "    </tr>\n",
       "    <tr>\n",
       "      <th>4</th>\n",
       "      <td>383</td>\n",
       "      <td>2</td>\n",
       "      <td>1</td>\n",
       "      <td>2</td>\n",
       "      <td>3</td>\n",
       "      <td>6</td>\n",
       "      <td>2</td>\n",
       "      <td>2</td>\n",
       "      <td>2</td>\n",
       "      <td>0</td>\n",
       "      <td>0.333333</td>\n",
       "    </tr>\n",
       "  </tbody>\n",
       "</table>\n",
       "</div>"
      ],
      "text/plain": [
       "   resID  atmilitary  atreligion  ated  atprof  atinc  atrace  atage  atmale  \\\n",
       "0    383           1           6     3       6      6       1      6       2   \n",
       "1    383           2           1     1       4      3       6      4       1   \n",
       "2    383           1           3     5       5      1       2      5       2   \n",
       "3    383           2           4     5       3      2       1      6       1   \n",
       "4    383           2           1     2       3      6       2      2       2   \n",
       "\n",
       "   selected    rating  \n",
       "0         0  0.333333  \n",
       "1         1  0.500000  \n",
       "2         1  0.666667  \n",
       "3         0  0.666667  \n",
       "4         0  0.333333  "
      ]
     },
     "execution_count": 5,
     "metadata": {},
     "output_type": "execute_result"
    }
   ],
   "source": [
    "df.head()"
   ]
  },
  {
   "cell_type": "code",
   "execution_count": 6,
   "metadata": {},
   "outputs": [
    {
     "data": {
      "text/html": [
       "<div>\n",
       "<style scoped>\n",
       "    .dataframe tbody tr th:only-of-type {\n",
       "        vertical-align: middle;\n",
       "    }\n",
       "\n",
       "    .dataframe tbody tr th {\n",
       "        vertical-align: top;\n",
       "    }\n",
       "\n",
       "    .dataframe thead th {\n",
       "        text-align: right;\n",
       "    }\n",
       "</style>\n",
       "<table border=\"1\" class=\"dataframe\">\n",
       "  <thead>\n",
       "    <tr style=\"text-align: right;\">\n",
       "      <th></th>\n",
       "      <th>resID</th>\n",
       "      <th>atmilitary</th>\n",
       "      <th>atreligion</th>\n",
       "      <th>ated</th>\n",
       "      <th>atprof</th>\n",
       "      <th>atinc</th>\n",
       "      <th>atrace</th>\n",
       "      <th>atage</th>\n",
       "      <th>atmale</th>\n",
       "      <th>selected</th>\n",
       "      <th>rating</th>\n",
       "    </tr>\n",
       "  </thead>\n",
       "  <tbody>\n",
       "    <tr>\n",
       "      <th>count</th>\n",
       "      <td>3466.000000</td>\n",
       "      <td>3466.000000</td>\n",
       "      <td>3466.000000</td>\n",
       "      <td>3466.000000</td>\n",
       "      <td>3466.000000</td>\n",
       "      <td>3466.000000</td>\n",
       "      <td>3466.000000</td>\n",
       "      <td>3466.000000</td>\n",
       "      <td>3466.000000</td>\n",
       "      <td>3466.000000</td>\n",
       "      <td>3456.000000</td>\n",
       "    </tr>\n",
       "    <tr>\n",
       "      <th>mean</th>\n",
       "      <td>455.171379</td>\n",
       "      <td>1.498846</td>\n",
       "      <td>3.488748</td>\n",
       "      <td>3.581939</td>\n",
       "      <td>3.491633</td>\n",
       "      <td>3.496249</td>\n",
       "      <td>3.488459</td>\n",
       "      <td>3.502597</td>\n",
       "      <td>1.493653</td>\n",
       "      <td>0.500000</td>\n",
       "      <td>0.509838</td>\n",
       "    </tr>\n",
       "    <tr>\n",
       "      <th>std</th>\n",
       "      <td>252.867078</td>\n",
       "      <td>0.500071</td>\n",
       "      <td>1.712703</td>\n",
       "      <td>1.729235</td>\n",
       "      <td>1.701392</td>\n",
       "      <td>1.705136</td>\n",
       "      <td>1.700355</td>\n",
       "      <td>1.716945</td>\n",
       "      <td>0.500032</td>\n",
       "      <td>0.500072</td>\n",
       "      <td>0.246864</td>\n",
       "    </tr>\n",
       "    <tr>\n",
       "      <th>min</th>\n",
       "      <td>7.000000</td>\n",
       "      <td>1.000000</td>\n",
       "      <td>1.000000</td>\n",
       "      <td>1.000000</td>\n",
       "      <td>1.000000</td>\n",
       "      <td>1.000000</td>\n",
       "      <td>1.000000</td>\n",
       "      <td>1.000000</td>\n",
       "      <td>1.000000</td>\n",
       "      <td>0.000000</td>\n",
       "      <td>0.000000</td>\n",
       "    </tr>\n",
       "    <tr>\n",
       "      <th>25%</th>\n",
       "      <td>238.000000</td>\n",
       "      <td>1.000000</td>\n",
       "      <td>2.000000</td>\n",
       "      <td>2.000000</td>\n",
       "      <td>2.000000</td>\n",
       "      <td>2.000000</td>\n",
       "      <td>2.000000</td>\n",
       "      <td>2.000000</td>\n",
       "      <td>1.000000</td>\n",
       "      <td>0.000000</td>\n",
       "      <td>0.333333</td>\n",
       "    </tr>\n",
       "    <tr>\n",
       "      <th>50%</th>\n",
       "      <td>453.000000</td>\n",
       "      <td>1.000000</td>\n",
       "      <td>3.000000</td>\n",
       "      <td>4.000000</td>\n",
       "      <td>3.000000</td>\n",
       "      <td>3.000000</td>\n",
       "      <td>3.000000</td>\n",
       "      <td>3.000000</td>\n",
       "      <td>1.000000</td>\n",
       "      <td>0.500000</td>\n",
       "      <td>0.500000</td>\n",
       "    </tr>\n",
       "    <tr>\n",
       "      <th>75%</th>\n",
       "      <td>669.000000</td>\n",
       "      <td>2.000000</td>\n",
       "      <td>5.000000</td>\n",
       "      <td>5.000000</td>\n",
       "      <td>5.000000</td>\n",
       "      <td>5.000000</td>\n",
       "      <td>5.000000</td>\n",
       "      <td>5.000000</td>\n",
       "      <td>2.000000</td>\n",
       "      <td>1.000000</td>\n",
       "      <td>0.666667</td>\n",
       "    </tr>\n",
       "    <tr>\n",
       "      <th>max</th>\n",
       "      <td>900.000000</td>\n",
       "      <td>2.000000</td>\n",
       "      <td>6.000000</td>\n",
       "      <td>6.000000</td>\n",
       "      <td>6.000000</td>\n",
       "      <td>6.000000</td>\n",
       "      <td>6.000000</td>\n",
       "      <td>6.000000</td>\n",
       "      <td>2.000000</td>\n",
       "      <td>1.000000</td>\n",
       "      <td>1.000000</td>\n",
       "    </tr>\n",
       "  </tbody>\n",
       "</table>\n",
       "</div>"
      ],
      "text/plain": [
       "             resID   atmilitary   atreligion         ated       atprof  \\\n",
       "count  3466.000000  3466.000000  3466.000000  3466.000000  3466.000000   \n",
       "mean    455.171379     1.498846     3.488748     3.581939     3.491633   \n",
       "std     252.867078     0.500071     1.712703     1.729235     1.701392   \n",
       "min       7.000000     1.000000     1.000000     1.000000     1.000000   \n",
       "25%     238.000000     1.000000     2.000000     2.000000     2.000000   \n",
       "50%     453.000000     1.000000     3.000000     4.000000     3.000000   \n",
       "75%     669.000000     2.000000     5.000000     5.000000     5.000000   \n",
       "max     900.000000     2.000000     6.000000     6.000000     6.000000   \n",
       "\n",
       "             atinc       atrace        atage       atmale     selected  \\\n",
       "count  3466.000000  3466.000000  3466.000000  3466.000000  3466.000000   \n",
       "mean      3.496249     3.488459     3.502597     1.493653     0.500000   \n",
       "std       1.705136     1.700355     1.716945     0.500032     0.500072   \n",
       "min       1.000000     1.000000     1.000000     1.000000     0.000000   \n",
       "25%       2.000000     2.000000     2.000000     1.000000     0.000000   \n",
       "50%       3.000000     3.000000     3.000000     1.000000     0.500000   \n",
       "75%       5.000000     5.000000     5.000000     2.000000     1.000000   \n",
       "max       6.000000     6.000000     6.000000     2.000000     1.000000   \n",
       "\n",
       "            rating  \n",
       "count  3456.000000  \n",
       "mean      0.509838  \n",
       "std       0.246864  \n",
       "min       0.000000  \n",
       "25%       0.333333  \n",
       "50%       0.500000  \n",
       "75%       0.666667  \n",
       "max       1.000000  "
      ]
     },
     "execution_count": 6,
     "metadata": {},
     "output_type": "execute_result"
    }
   ],
   "source": [
    "df.describe()"
   ]
  },
  {
   "cell_type": "code",
   "execution_count": 40,
   "metadata": {},
   "outputs": [
    {
     "data": {
      "text/plain": [
       "4.0"
      ]
     },
     "execution_count": 40,
     "metadata": {},
     "output_type": "execute_result"
    }
   ],
   "source": [
    "32/8"
   ]
  },
  {
   "cell_type": "code",
   "execution_count": 7,
   "metadata": {},
   "outputs": [
    {
     "data": {
      "text/plain": [
       "1    1737\n",
       "2    1729\n",
       "Name: atmilitary, dtype: int64"
      ]
     },
     "execution_count": 7,
     "metadata": {},
     "output_type": "execute_result"
    }
   ],
   "source": [
    "df.atmilitary.value_counts()"
   ]
  },
  {
   "cell_type": "code",
   "execution_count": 8,
   "metadata": {},
   "outputs": [
    {
     "data": {
      "text/plain": [
       "1    590\n",
       "3    588\n",
       "6    580\n",
       "2    571\n",
       "4    569\n",
       "5    568\n",
       "Name: atreligion, dtype: int64"
      ]
     },
     "execution_count": 8,
     "metadata": {},
     "output_type": "execute_result"
    }
   ],
   "source": [
    "df.atreligion.value_counts()"
   ]
  },
  {
   "cell_type": "code",
   "execution_count": 9,
   "metadata": {},
   "outputs": [
    {
     "data": {
      "text/plain": [
       "6    640\n",
       "4    598\n",
       "5    588\n",
       "1    574\n",
       "3    537\n",
       "2    529\n",
       "Name: ated, dtype: int64"
      ]
     },
     "execution_count": 9,
     "metadata": {},
     "output_type": "execute_result"
    }
   ],
   "source": [
    "df.ated.value_counts()"
   ]
  },
  {
   "cell_type": "code",
   "execution_count": 10,
   "metadata": {},
   "outputs": [
    {
     "data": {
      "text/plain": [
       "3    603\n",
       "4    591\n",
       "1    580\n",
       "6    575\n",
       "2    562\n",
       "5    555\n",
       "Name: atprof, dtype: int64"
      ]
     },
     "execution_count": 10,
     "metadata": {},
     "output_type": "execute_result"
    }
   ],
   "source": [
    "df.atprof.value_counts()"
   ]
  },
  {
   "cell_type": "code",
   "execution_count": 11,
   "metadata": {},
   "outputs": [
    {
     "data": {
      "text/plain": [
       "3    617\n",
       "1    598\n",
       "5    591\n",
       "4    569\n",
       "6    564\n",
       "2    527\n",
       "Name: atinc, dtype: int64"
      ]
     },
     "execution_count": 11,
     "metadata": {},
     "output_type": "execute_result"
    }
   ],
   "source": [
    "df.atinc.value_counts()"
   ]
  },
  {
   "cell_type": "code",
   "execution_count": 12,
   "metadata": {},
   "outputs": [
    {
     "data": {
      "text/plain": [
       "3    617\n",
       "5    591\n",
       "2    577\n",
       "1    573\n",
       "6    563\n",
       "4    545\n",
       "Name: atrace, dtype: int64"
      ]
     },
     "execution_count": 12,
     "metadata": {},
     "output_type": "execute_result"
    }
   ],
   "source": [
    "df.atrace.value_counts()"
   ]
  },
  {
   "cell_type": "code",
   "execution_count": 13,
   "metadata": {},
   "outputs": [
    {
     "data": {
      "text/plain": [
       "1    601\n",
       "3    595\n",
       "5    592\n",
       "6    580\n",
       "4    559\n",
       "2    539\n",
       "Name: atage, dtype: int64"
      ]
     },
     "execution_count": 13,
     "metadata": {},
     "output_type": "execute_result"
    }
   ],
   "source": [
    "df.atage.value_counts()"
   ]
  },
  {
   "cell_type": "code",
   "execution_count": 14,
   "metadata": {},
   "outputs": [
    {
     "data": {
      "text/plain": [
       "1    1755\n",
       "2    1711\n",
       "Name: atmale, dtype: int64"
      ]
     },
     "execution_count": 14,
     "metadata": {},
     "output_type": "execute_result"
    }
   ],
   "source": [
    "df.atmale.value_counts()"
   ]
  },
  {
   "cell_type": "code",
   "execution_count": 15,
   "metadata": {},
   "outputs": [
    {
     "data": {
      "text/plain": [
       "(3466, 11)"
      ]
     },
     "execution_count": 15,
     "metadata": {},
     "output_type": "execute_result"
    }
   ],
   "source": [
    "df.shape"
   ]
  },
  {
   "cell_type": "code",
   "execution_count": 16,
   "metadata": {},
   "outputs": [
    {
     "data": {
      "text/plain": [
       "resID          0\n",
       "atmilitary     0\n",
       "atreligion     0\n",
       "ated           0\n",
       "atprof         0\n",
       "atinc          0\n",
       "atrace         0\n",
       "atage          0\n",
       "atmale         0\n",
       "selected       0\n",
       "rating        10\n",
       "dtype: int64"
      ]
     },
     "execution_count": 16,
     "metadata": {},
     "output_type": "execute_result"
    }
   ],
   "source": [
    "df.isnull().sum()"
   ]
  },
  {
   "cell_type": "code",
   "execution_count": 17,
   "metadata": {},
   "outputs": [],
   "source": [
    "# remove empty data\n",
    "clean_df = df.dropna()"
   ]
  },
  {
   "cell_type": "code",
   "execution_count": 18,
   "metadata": {},
   "outputs": [],
   "source": [
    "y = clean_df['selected']\n",
    "x = clean_df[[x for x in df.columns if x != 'selected' and x != 'resID' and x != 'rating']]"
   ]
  },
  {
   "cell_type": "code",
   "execution_count": 19,
   "metadata": {},
   "outputs": [
    {
     "data": {
      "text/html": [
       "<div>\n",
       "<style scoped>\n",
       "    .dataframe tbody tr th:only-of-type {\n",
       "        vertical-align: middle;\n",
       "    }\n",
       "\n",
       "    .dataframe tbody tr th {\n",
       "        vertical-align: top;\n",
       "    }\n",
       "\n",
       "    .dataframe thead th {\n",
       "        text-align: right;\n",
       "    }\n",
       "</style>\n",
       "<table border=\"1\" class=\"dataframe\">\n",
       "  <thead>\n",
       "    <tr style=\"text-align: right;\">\n",
       "      <th></th>\n",
       "      <th>atmilitary_1</th>\n",
       "      <th>atmilitary_2</th>\n",
       "      <th>atreligion_1</th>\n",
       "      <th>atreligion_2</th>\n",
       "      <th>atreligion_3</th>\n",
       "      <th>atreligion_4</th>\n",
       "      <th>atreligion_5</th>\n",
       "      <th>atreligion_6</th>\n",
       "      <th>ated_1</th>\n",
       "      <th>ated_2</th>\n",
       "      <th>...</th>\n",
       "      <th>atrace_5</th>\n",
       "      <th>atrace_6</th>\n",
       "      <th>atage_1</th>\n",
       "      <th>atage_2</th>\n",
       "      <th>atage_3</th>\n",
       "      <th>atage_4</th>\n",
       "      <th>atage_5</th>\n",
       "      <th>atage_6</th>\n",
       "      <th>atmale_1</th>\n",
       "      <th>atmale_2</th>\n",
       "    </tr>\n",
       "  </thead>\n",
       "  <tbody>\n",
       "    <tr>\n",
       "      <th>0</th>\n",
       "      <td>1</td>\n",
       "      <td>0</td>\n",
       "      <td>0</td>\n",
       "      <td>0</td>\n",
       "      <td>0</td>\n",
       "      <td>0</td>\n",
       "      <td>0</td>\n",
       "      <td>1</td>\n",
       "      <td>0</td>\n",
       "      <td>0</td>\n",
       "      <td>...</td>\n",
       "      <td>0</td>\n",
       "      <td>0</td>\n",
       "      <td>0</td>\n",
       "      <td>0</td>\n",
       "      <td>0</td>\n",
       "      <td>0</td>\n",
       "      <td>0</td>\n",
       "      <td>1</td>\n",
       "      <td>0</td>\n",
       "      <td>1</td>\n",
       "    </tr>\n",
       "    <tr>\n",
       "      <th>1</th>\n",
       "      <td>0</td>\n",
       "      <td>1</td>\n",
       "      <td>1</td>\n",
       "      <td>0</td>\n",
       "      <td>0</td>\n",
       "      <td>0</td>\n",
       "      <td>0</td>\n",
       "      <td>0</td>\n",
       "      <td>1</td>\n",
       "      <td>0</td>\n",
       "      <td>...</td>\n",
       "      <td>0</td>\n",
       "      <td>1</td>\n",
       "      <td>0</td>\n",
       "      <td>0</td>\n",
       "      <td>0</td>\n",
       "      <td>1</td>\n",
       "      <td>0</td>\n",
       "      <td>0</td>\n",
       "      <td>1</td>\n",
       "      <td>0</td>\n",
       "    </tr>\n",
       "    <tr>\n",
       "      <th>2</th>\n",
       "      <td>1</td>\n",
       "      <td>0</td>\n",
       "      <td>0</td>\n",
       "      <td>0</td>\n",
       "      <td>1</td>\n",
       "      <td>0</td>\n",
       "      <td>0</td>\n",
       "      <td>0</td>\n",
       "      <td>0</td>\n",
       "      <td>0</td>\n",
       "      <td>...</td>\n",
       "      <td>0</td>\n",
       "      <td>0</td>\n",
       "      <td>0</td>\n",
       "      <td>0</td>\n",
       "      <td>0</td>\n",
       "      <td>0</td>\n",
       "      <td>1</td>\n",
       "      <td>0</td>\n",
       "      <td>0</td>\n",
       "      <td>1</td>\n",
       "    </tr>\n",
       "    <tr>\n",
       "      <th>3</th>\n",
       "      <td>0</td>\n",
       "      <td>1</td>\n",
       "      <td>0</td>\n",
       "      <td>0</td>\n",
       "      <td>0</td>\n",
       "      <td>1</td>\n",
       "      <td>0</td>\n",
       "      <td>0</td>\n",
       "      <td>0</td>\n",
       "      <td>0</td>\n",
       "      <td>...</td>\n",
       "      <td>0</td>\n",
       "      <td>0</td>\n",
       "      <td>0</td>\n",
       "      <td>0</td>\n",
       "      <td>0</td>\n",
       "      <td>0</td>\n",
       "      <td>0</td>\n",
       "      <td>1</td>\n",
       "      <td>1</td>\n",
       "      <td>0</td>\n",
       "    </tr>\n",
       "    <tr>\n",
       "      <th>4</th>\n",
       "      <td>0</td>\n",
       "      <td>1</td>\n",
       "      <td>1</td>\n",
       "      <td>0</td>\n",
       "      <td>0</td>\n",
       "      <td>0</td>\n",
       "      <td>0</td>\n",
       "      <td>0</td>\n",
       "      <td>0</td>\n",
       "      <td>1</td>\n",
       "      <td>...</td>\n",
       "      <td>0</td>\n",
       "      <td>0</td>\n",
       "      <td>0</td>\n",
       "      <td>1</td>\n",
       "      <td>0</td>\n",
       "      <td>0</td>\n",
       "      <td>0</td>\n",
       "      <td>0</td>\n",
       "      <td>0</td>\n",
       "      <td>1</td>\n",
       "    </tr>\n",
       "  </tbody>\n",
       "</table>\n",
       "<p>5 rows × 40 columns</p>\n",
       "</div>"
      ],
      "text/plain": [
       "   atmilitary_1  atmilitary_2  atreligion_1  atreligion_2  atreligion_3  \\\n",
       "0             1             0             0             0             0   \n",
       "1             0             1             1             0             0   \n",
       "2             1             0             0             0             1   \n",
       "3             0             1             0             0             0   \n",
       "4             0             1             1             0             0   \n",
       "\n",
       "   atreligion_4  atreligion_5  atreligion_6  ated_1  ated_2  ...  atrace_5  \\\n",
       "0             0             0             1       0       0  ...         0   \n",
       "1             0             0             0       1       0  ...         0   \n",
       "2             0             0             0       0       0  ...         0   \n",
       "3             1             0             0       0       0  ...         0   \n",
       "4             0             0             0       0       1  ...         0   \n",
       "\n",
       "   atrace_6  atage_1  atage_2  atage_3  atage_4  atage_5  atage_6  atmale_1  \\\n",
       "0         0        0        0        0        0        0        1         0   \n",
       "1         1        0        0        0        1        0        0         1   \n",
       "2         0        0        0        0        0        1        0         0   \n",
       "3         0        0        0        0        0        0        1         1   \n",
       "4         0        0        1        0        0        0        0         0   \n",
       "\n",
       "   atmale_2  \n",
       "0         1  \n",
       "1         0  \n",
       "2         1  \n",
       "3         0  \n",
       "4         1  \n",
       "\n",
       "[5 rows x 40 columns]"
      ]
     },
     "execution_count": 19,
     "metadata": {},
     "output_type": "execute_result"
    }
   ],
   "source": [
    "xdum = pd.get_dummies(x, columns=[c for c in x.columns if c != 'selected'])\n",
    "xdum.head()"
   ]
  },
  {
   "cell_type": "code",
   "execution_count": 26,
   "metadata": {},
   "outputs": [
    {
     "data": {
      "text/html": [
       "<table class=\"simpletable\">\n",
       "<caption>OLS Regression Results</caption>\n",
       "<tr>\n",
       "  <th>Dep. Variable:</th>        <td>selected</td>     <th>  R-squared:         </th> <td>   0.091</td>\n",
       "</tr>\n",
       "<tr>\n",
       "  <th>Model:</th>                   <td>OLS</td>       <th>  Adj. R-squared:    </th> <td>   0.083</td>\n",
       "</tr>\n",
       "<tr>\n",
       "  <th>Method:</th>             <td>Least Squares</td>  <th>  F-statistic:       </th> <td>   10.72</td>\n",
       "</tr>\n",
       "<tr>\n",
       "  <th>Date:</th>             <td>Fri, 23 Apr 2021</td> <th>  Prob (F-statistic):</th> <td>7.39e-51</td>\n",
       "</tr>\n",
       "<tr>\n",
       "  <th>Time:</th>                 <td>14:20:09</td>     <th>  Log-Likelihood:    </th> <td> -2343.3</td>\n",
       "</tr>\n",
       "<tr>\n",
       "  <th>No. Observations:</th>      <td>  3456</td>      <th>  AIC:               </th> <td>   4753.</td>\n",
       "</tr>\n",
       "<tr>\n",
       "  <th>Df Residuals:</th>          <td>  3423</td>      <th>  BIC:               </th> <td>   4956.</td>\n",
       "</tr>\n",
       "<tr>\n",
       "  <th>Df Model:</th>              <td>    32</td>      <th>                     </th>     <td> </td>   \n",
       "</tr>\n",
       "<tr>\n",
       "  <th>Covariance Type:</th>      <td>nonrobust</td>    <th>                     </th>     <td> </td>   \n",
       "</tr>\n",
       "</table>\n",
       "<table class=\"simpletable\">\n",
       "<tr>\n",
       "        <td></td>          <th>coef</th>     <th>std err</th>      <th>t</th>      <th>P>|t|</th>  <th>[0.025</th>    <th>0.975]</th>  \n",
       "</tr>\n",
       "<tr>\n",
       "  <th>atmilitary_1</th> <td>    0.0808</td> <td>    0.008</td> <td>    9.585</td> <td> 0.000</td> <td>    0.064</td> <td>    0.097</td>\n",
       "</tr>\n",
       "<tr>\n",
       "  <th>atmilitary_2</th> <td>    0.1671</td> <td>    0.008</td> <td>   19.810</td> <td> 0.000</td> <td>    0.151</td> <td>    0.184</td>\n",
       "</tr>\n",
       "<tr>\n",
       "  <th>atreligion_1</th> <td>    0.0931</td> <td>    0.018</td> <td>    5.132</td> <td> 0.000</td> <td>    0.058</td> <td>    0.129</td>\n",
       "</tr>\n",
       "<tr>\n",
       "  <th>atreligion_2</th> <td>    0.0578</td> <td>    0.018</td> <td>    3.144</td> <td> 0.002</td> <td>    0.022</td> <td>    0.094</td>\n",
       "</tr>\n",
       "<tr>\n",
       "  <th>atreligion_3</th> <td>    0.0803</td> <td>    0.018</td> <td>    4.411</td> <td> 0.000</td> <td>    0.045</td> <td>    0.116</td>\n",
       "</tr>\n",
       "<tr>\n",
       "  <th>atreligion_4</th> <td>    0.0797</td> <td>    0.018</td> <td>    4.326</td> <td> 0.000</td> <td>    0.044</td> <td>    0.116</td>\n",
       "</tr>\n",
       "<tr>\n",
       "  <th>atreligion_5</th> <td>   -0.0218</td> <td>    0.018</td> <td>   -1.185</td> <td> 0.236</td> <td>   -0.058</td> <td>    0.014</td>\n",
       "</tr>\n",
       "<tr>\n",
       "  <th>atreligion_6</th> <td>   -0.0411</td> <td>    0.018</td> <td>   -2.256</td> <td> 0.024</td> <td>   -0.077</td> <td>   -0.005</td>\n",
       "</tr>\n",
       "<tr>\n",
       "  <th>ated_1</th>       <td>   -0.1124</td> <td>    0.018</td> <td>   -6.115</td> <td> 0.000</td> <td>   -0.148</td> <td>   -0.076</td>\n",
       "</tr>\n",
       "<tr>\n",
       "  <th>ated_2</th>       <td>    0.0278</td> <td>    0.019</td> <td>    1.464</td> <td> 0.143</td> <td>   -0.009</td> <td>    0.065</td>\n",
       "</tr>\n",
       "<tr>\n",
       "  <th>ated_3</th>       <td>    0.0366</td> <td>    0.019</td> <td>    1.942</td> <td> 0.052</td> <td>   -0.000</td> <td>    0.074</td>\n",
       "</tr>\n",
       "<tr>\n",
       "  <th>ated_4</th>       <td>    0.0737</td> <td>    0.018</td> <td>    4.076</td> <td> 0.000</td> <td>    0.038</td> <td>    0.109</td>\n",
       "</tr>\n",
       "<tr>\n",
       "  <th>ated_5</th>       <td>    0.0649</td> <td>    0.018</td> <td>    3.570</td> <td> 0.000</td> <td>    0.029</td> <td>    0.101</td>\n",
       "</tr>\n",
       "<tr>\n",
       "  <th>ated_6</th>       <td>    0.1572</td> <td>    0.018</td> <td>    8.949</td> <td> 0.000</td> <td>    0.123</td> <td>    0.192</td>\n",
       "</tr>\n",
       "<tr>\n",
       "  <th>atprof_1</th>     <td>    0.1084</td> <td>    0.018</td> <td>    5.930</td> <td> 0.000</td> <td>    0.073</td> <td>    0.144</td>\n",
       "</tr>\n",
       "<tr>\n",
       "  <th>atprof_2</th>     <td>    0.0852</td> <td>    0.019</td> <td>    4.597</td> <td> 0.000</td> <td>    0.049</td> <td>    0.122</td>\n",
       "</tr>\n",
       "<tr>\n",
       "  <th>atprof_3</th>     <td>    0.0910</td> <td>    0.018</td> <td>    5.060</td> <td> 0.000</td> <td>    0.056</td> <td>    0.126</td>\n",
       "</tr>\n",
       "<tr>\n",
       "  <th>atprof_4</th>     <td>    0.0674</td> <td>    0.018</td> <td>    3.716</td> <td> 0.000</td> <td>    0.032</td> <td>    0.103</td>\n",
       "</tr>\n",
       "<tr>\n",
       "  <th>atprof_5</th>     <td>    0.0145</td> <td>    0.019</td> <td>    0.779</td> <td> 0.436</td> <td>   -0.022</td> <td>    0.051</td>\n",
       "</tr>\n",
       "<tr>\n",
       "  <th>atprof_6</th>     <td>   -0.1186</td> <td>    0.018</td> <td>   -6.465</td> <td> 0.000</td> <td>   -0.155</td> <td>   -0.083</td>\n",
       "</tr>\n",
       "<tr>\n",
       "  <th>atinc_1</th>      <td>    0.0081</td> <td>    0.018</td> <td>    0.448</td> <td> 0.654</td> <td>   -0.027</td> <td>    0.043</td>\n",
       "</tr>\n",
       "<tr>\n",
       "  <th>atinc_2</th>      <td>    0.0316</td> <td>    0.019</td> <td>    1.662</td> <td> 0.097</td> <td>   -0.006</td> <td>    0.069</td>\n",
       "</tr>\n",
       "<tr>\n",
       "  <th>atinc_3</th>      <td>    0.0716</td> <td>    0.018</td> <td>    4.020</td> <td> 0.000</td> <td>    0.037</td> <td>    0.106</td>\n",
       "</tr>\n",
       "<tr>\n",
       "  <th>atinc_4</th>      <td>    0.0397</td> <td>    0.018</td> <td>    2.154</td> <td> 0.031</td> <td>    0.004</td> <td>    0.076</td>\n",
       "</tr>\n",
       "<tr>\n",
       "  <th>atinc_5</th>      <td>    0.0808</td> <td>    0.018</td> <td>    4.451</td> <td> 0.000</td> <td>    0.045</td> <td>    0.116</td>\n",
       "</tr>\n",
       "<tr>\n",
       "  <th>atinc_6</th>      <td>    0.0161</td> <td>    0.018</td> <td>    0.872</td> <td> 0.383</td> <td>   -0.020</td> <td>    0.052</td>\n",
       "</tr>\n",
       "<tr>\n",
       "  <th>atrace_1</th>     <td>    0.0274</td> <td>    0.018</td> <td>    1.494</td> <td> 0.135</td> <td>   -0.009</td> <td>    0.063</td>\n",
       "</tr>\n",
       "<tr>\n",
       "  <th>atrace_2</th>     <td>    0.0527</td> <td>    0.018</td> <td>    2.881</td> <td> 0.004</td> <td>    0.017</td> <td>    0.089</td>\n",
       "</tr>\n",
       "<tr>\n",
       "  <th>atrace_3</th>     <td>    0.0633</td> <td>    0.018</td> <td>    3.556</td> <td> 0.000</td> <td>    0.028</td> <td>    0.098</td>\n",
       "</tr>\n",
       "<tr>\n",
       "  <th>atrace_4</th>     <td>    0.0037</td> <td>    0.019</td> <td>    0.198</td> <td> 0.843</td> <td>   -0.033</td> <td>    0.040</td>\n",
       "</tr>\n",
       "<tr>\n",
       "  <th>atrace_5</th>     <td>    0.0324</td> <td>    0.018</td> <td>    1.787</td> <td> 0.074</td> <td>   -0.003</td> <td>    0.068</td>\n",
       "</tr>\n",
       "<tr>\n",
       "  <th>atrace_6</th>     <td>    0.0683</td> <td>    0.019</td> <td>    3.687</td> <td> 0.000</td> <td>    0.032</td> <td>    0.105</td>\n",
       "</tr>\n",
       "<tr>\n",
       "  <th>atage_1</th>      <td>    0.0680</td> <td>    0.018</td> <td>    3.770</td> <td> 0.000</td> <td>    0.033</td> <td>    0.103</td>\n",
       "</tr>\n",
       "<tr>\n",
       "  <th>atage_2</th>      <td>    0.0934</td> <td>    0.019</td> <td>    4.957</td> <td> 0.000</td> <td>    0.056</td> <td>    0.130</td>\n",
       "</tr>\n",
       "<tr>\n",
       "  <th>atage_3</th>      <td>    0.0900</td> <td>    0.018</td> <td>    4.967</td> <td> 0.000</td> <td>    0.054</td> <td>    0.125</td>\n",
       "</tr>\n",
       "<tr>\n",
       "  <th>atage_4</th>      <td>    0.0711</td> <td>    0.019</td> <td>    3.837</td> <td> 0.000</td> <td>    0.035</td> <td>    0.107</td>\n",
       "</tr>\n",
       "<tr>\n",
       "  <th>atage_5</th>      <td>    0.0038</td> <td>    0.018</td> <td>    0.208</td> <td> 0.835</td> <td>   -0.032</td> <td>    0.039</td>\n",
       "</tr>\n",
       "<tr>\n",
       "  <th>atage_6</th>      <td>   -0.0783</td> <td>    0.018</td> <td>   -4.276</td> <td> 0.000</td> <td>   -0.114</td> <td>   -0.042</td>\n",
       "</tr>\n",
       "<tr>\n",
       "  <th>atmale_1</th>     <td>    0.1228</td> <td>    0.008</td> <td>   14.616</td> <td> 0.000</td> <td>    0.106</td> <td>    0.139</td>\n",
       "</tr>\n",
       "<tr>\n",
       "  <th>atmale_2</th>     <td>    0.1250</td> <td>    0.008</td> <td>   14.787</td> <td> 0.000</td> <td>    0.108</td> <td>    0.142</td>\n",
       "</tr>\n",
       "</table>\n",
       "<table class=\"simpletable\">\n",
       "<tr>\n",
       "  <th>Omnibus:</th>       <td>16383.026</td> <th>  Durbin-Watson:     </th> <td>   2.872</td>\n",
       "</tr>\n",
       "<tr>\n",
       "  <th>Prob(Omnibus):</th>  <td> 0.000</td>   <th>  Jarque-Bera (JB):  </th> <td> 391.306</td>\n",
       "</tr>\n",
       "<tr>\n",
       "  <th>Skew:</th>           <td>-0.011</td>   <th>  Prob(JB):          </th> <td>1.07e-85</td>\n",
       "</tr>\n",
       "<tr>\n",
       "  <th>Kurtosis:</th>       <td> 1.352</td>   <th>  Cond. No.          </th> <td>1.51e+16</td>\n",
       "</tr>\n",
       "</table><br/><br/>Warnings:<br/>[1] Standard Errors assume that the covariance matrix of the errors is correctly specified.<br/>[2] The smallest eigenvalue is 3.05e-29. This might indicate that there are<br/>strong multicollinearity problems or that the design matrix is singular."
      ],
      "text/plain": [
       "<class 'statsmodels.iolib.summary.Summary'>\n",
       "\"\"\"\n",
       "                            OLS Regression Results                            \n",
       "==============================================================================\n",
       "Dep. Variable:               selected   R-squared:                       0.091\n",
       "Model:                            OLS   Adj. R-squared:                  0.083\n",
       "Method:                 Least Squares   F-statistic:                     10.72\n",
       "Date:                Fri, 23 Apr 2021   Prob (F-statistic):           7.39e-51\n",
       "Time:                        14:20:09   Log-Likelihood:                -2343.3\n",
       "No. Observations:                3456   AIC:                             4753.\n",
       "Df Residuals:                    3423   BIC:                             4956.\n",
       "Df Model:                          32                                         \n",
       "Covariance Type:            nonrobust                                         \n",
       "================================================================================\n",
       "                   coef    std err          t      P>|t|      [0.025      0.975]\n",
       "--------------------------------------------------------------------------------\n",
       "atmilitary_1     0.0808      0.008      9.585      0.000       0.064       0.097\n",
       "atmilitary_2     0.1671      0.008     19.810      0.000       0.151       0.184\n",
       "atreligion_1     0.0931      0.018      5.132      0.000       0.058       0.129\n",
       "atreligion_2     0.0578      0.018      3.144      0.002       0.022       0.094\n",
       "atreligion_3     0.0803      0.018      4.411      0.000       0.045       0.116\n",
       "atreligion_4     0.0797      0.018      4.326      0.000       0.044       0.116\n",
       "atreligion_5    -0.0218      0.018     -1.185      0.236      -0.058       0.014\n",
       "atreligion_6    -0.0411      0.018     -2.256      0.024      -0.077      -0.005\n",
       "ated_1          -0.1124      0.018     -6.115      0.000      -0.148      -0.076\n",
       "ated_2           0.0278      0.019      1.464      0.143      -0.009       0.065\n",
       "ated_3           0.0366      0.019      1.942      0.052      -0.000       0.074\n",
       "ated_4           0.0737      0.018      4.076      0.000       0.038       0.109\n",
       "ated_5           0.0649      0.018      3.570      0.000       0.029       0.101\n",
       "ated_6           0.1572      0.018      8.949      0.000       0.123       0.192\n",
       "atprof_1         0.1084      0.018      5.930      0.000       0.073       0.144\n",
       "atprof_2         0.0852      0.019      4.597      0.000       0.049       0.122\n",
       "atprof_3         0.0910      0.018      5.060      0.000       0.056       0.126\n",
       "atprof_4         0.0674      0.018      3.716      0.000       0.032       0.103\n",
       "atprof_5         0.0145      0.019      0.779      0.436      -0.022       0.051\n",
       "atprof_6        -0.1186      0.018     -6.465      0.000      -0.155      -0.083\n",
       "atinc_1          0.0081      0.018      0.448      0.654      -0.027       0.043\n",
       "atinc_2          0.0316      0.019      1.662      0.097      -0.006       0.069\n",
       "atinc_3          0.0716      0.018      4.020      0.000       0.037       0.106\n",
       "atinc_4          0.0397      0.018      2.154      0.031       0.004       0.076\n",
       "atinc_5          0.0808      0.018      4.451      0.000       0.045       0.116\n",
       "atinc_6          0.0161      0.018      0.872      0.383      -0.020       0.052\n",
       "atrace_1         0.0274      0.018      1.494      0.135      -0.009       0.063\n",
       "atrace_2         0.0527      0.018      2.881      0.004       0.017       0.089\n",
       "atrace_3         0.0633      0.018      3.556      0.000       0.028       0.098\n",
       "atrace_4         0.0037      0.019      0.198      0.843      -0.033       0.040\n",
       "atrace_5         0.0324      0.018      1.787      0.074      -0.003       0.068\n",
       "atrace_6         0.0683      0.019      3.687      0.000       0.032       0.105\n",
       "atage_1          0.0680      0.018      3.770      0.000       0.033       0.103\n",
       "atage_2          0.0934      0.019      4.957      0.000       0.056       0.130\n",
       "atage_3          0.0900      0.018      4.967      0.000       0.054       0.125\n",
       "atage_4          0.0711      0.019      3.837      0.000       0.035       0.107\n",
       "atage_5          0.0038      0.018      0.208      0.835      -0.032       0.039\n",
       "atage_6         -0.0783      0.018     -4.276      0.000      -0.114      -0.042\n",
       "atmale_1         0.1228      0.008     14.616      0.000       0.106       0.139\n",
       "atmale_2         0.1250      0.008     14.787      0.000       0.108       0.142\n",
       "==============================================================================\n",
       "Omnibus:                    16383.026   Durbin-Watson:                   2.872\n",
       "Prob(Omnibus):                  0.000   Jarque-Bera (JB):              391.306\n",
       "Skew:                          -0.011   Prob(JB):                     1.07e-85\n",
       "Kurtosis:                       1.352   Cond. No.                     1.51e+16\n",
       "==============================================================================\n",
       "\n",
       "Warnings:\n",
       "[1] Standard Errors assume that the covariance matrix of the errors is correctly specified.\n",
       "[2] The smallest eigenvalue is 3.05e-29. This might indicate that there are\n",
       "strong multicollinearity problems or that the design matrix is singular.\n",
       "\"\"\""
      ]
     },
     "execution_count": 26,
     "metadata": {},
     "output_type": "execute_result"
    }
   ],
   "source": [
    "res = sm.OLS(y, xdum, family=sm.families.Binomial()).fit()\n",
    "res.summary()"
   ]
  },
  {
   "cell_type": "code",
   "execution_count": 27,
   "metadata": {},
   "outputs": [],
   "source": [
    "df_res = pd.DataFrame({\n",
    "    'param_name': res.params.keys()\n",
    "    , 'param_w': res.params.values\n",
    "    , 'pval': res.pvalues\n",
    "})"
   ]
  },
  {
   "cell_type": "code",
   "execution_count": 28,
   "metadata": {},
   "outputs": [],
   "source": [
    "df_res['abs_param_w'] = np.abs(df_res['param_w'])\n",
    "# marking field is significant under 95% confidence interval\n",
    "df_res['is_sig_95'] = (df_res['pval'] < 0.05)\n",
    "# constructing color naming for each param\n",
    "df_res['c'] = ['blue' if x else 'red' for x in df_res['is_sig_95']]"
   ]
  },
  {
   "cell_type": "code",
   "execution_count": 29,
   "metadata": {},
   "outputs": [
    {
     "data": {
      "text/html": [
       "<div>\n",
       "<style scoped>\n",
       "    .dataframe tbody tr th:only-of-type {\n",
       "        vertical-align: middle;\n",
       "    }\n",
       "\n",
       "    .dataframe tbody tr th {\n",
       "        vertical-align: top;\n",
       "    }\n",
       "\n",
       "    .dataframe thead th {\n",
       "        text-align: right;\n",
       "    }\n",
       "</style>\n",
       "<table border=\"1\" class=\"dataframe\">\n",
       "  <thead>\n",
       "    <tr style=\"text-align: right;\">\n",
       "      <th></th>\n",
       "      <th>param_name</th>\n",
       "      <th>param_w</th>\n",
       "      <th>pval</th>\n",
       "      <th>abs_param_w</th>\n",
       "      <th>is_sig_95</th>\n",
       "      <th>c</th>\n",
       "    </tr>\n",
       "  </thead>\n",
       "  <tbody>\n",
       "    <tr>\n",
       "      <th>atmilitary_1</th>\n",
       "      <td>atmilitary_1</td>\n",
       "      <td>0.080778</td>\n",
       "      <td>1.711435e-21</td>\n",
       "      <td>0.080778</td>\n",
       "      <td>True</td>\n",
       "      <td>blue</td>\n",
       "    </tr>\n",
       "    <tr>\n",
       "      <th>atmilitary_2</th>\n",
       "      <td>atmilitary_2</td>\n",
       "      <td>0.167102</td>\n",
       "      <td>9.017199e-83</td>\n",
       "      <td>0.167102</td>\n",
       "      <td>True</td>\n",
       "      <td>blue</td>\n",
       "    </tr>\n",
       "    <tr>\n",
       "      <th>atreligion_1</th>\n",
       "      <td>atreligion_1</td>\n",
       "      <td>0.093108</td>\n",
       "      <td>3.028118e-07</td>\n",
       "      <td>0.093108</td>\n",
       "      <td>True</td>\n",
       "      <td>blue</td>\n",
       "    </tr>\n",
       "    <tr>\n",
       "      <th>atreligion_2</th>\n",
       "      <td>atreligion_2</td>\n",
       "      <td>0.057763</td>\n",
       "      <td>1.682251e-03</td>\n",
       "      <td>0.057763</td>\n",
       "      <td>True</td>\n",
       "      <td>blue</td>\n",
       "    </tr>\n",
       "    <tr>\n",
       "      <th>atreligion_3</th>\n",
       "      <td>atreligion_3</td>\n",
       "      <td>0.080263</td>\n",
       "      <td>1.061895e-05</td>\n",
       "      <td>0.080263</td>\n",
       "      <td>True</td>\n",
       "      <td>blue</td>\n",
       "    </tr>\n",
       "  </tbody>\n",
       "</table>\n",
       "</div>"
      ],
      "text/plain": [
       "                param_name   param_w          pval  abs_param_w  is_sig_95  \\\n",
       "atmilitary_1  atmilitary_1  0.080778  1.711435e-21     0.080778       True   \n",
       "atmilitary_2  atmilitary_2  0.167102  9.017199e-83     0.167102       True   \n",
       "atreligion_1  atreligion_1  0.093108  3.028118e-07     0.093108       True   \n",
       "atreligion_2  atreligion_2  0.057763  1.682251e-03     0.057763       True   \n",
       "atreligion_3  atreligion_3  0.080263  1.061895e-05     0.080263       True   \n",
       "\n",
       "                 c  \n",
       "atmilitary_1  blue  \n",
       "atmilitary_2  blue  \n",
       "atreligion_1  blue  \n",
       "atreligion_2  blue  \n",
       "atreligion_3  blue  "
      ]
     },
     "execution_count": 29,
     "metadata": {},
     "output_type": "execute_result"
    }
   ],
   "source": [
    "df_res.head()"
   ]
  },
  {
   "cell_type": "code",
   "execution_count": 30,
   "metadata": {},
   "outputs": [],
   "source": [
    "# make it sorted by abs of parameter value\n",
    "df_res = df_res.sort_values(by='abs_param_w', ascending=True)"
   ]
  },
  {
   "cell_type": "code",
   "execution_count": 31,
   "metadata": {},
   "outputs": [
    {
     "data": {
      "image/png": "[encoded data removed]",
      "text/plain": [
       "<Figure size 1008x576 with 1 Axes>"
      ]
     },
     "metadata": {
      "needs_background": "light"
     },
     "output_type": "display_data"
    }
   ],
   "source": [
    "f, ax = plt.subplots(figsize=(14, 8))\n",
    "plt.title('Part Worth')\n",
    "pwu = df_res['param_w']\n",
    "xbar = np.arange(len(pwu))\n",
    "plt.barh(xbar, pwu, color=df_res['c'])\n",
    "plt.yticks(xbar, labels=df_res['param_name'])\n",
    "plt.show()"
   ]
  },
  {
   "cell_type": "code",
   "execution_count": 32,
   "metadata": {},
   "outputs": [],
   "source": [
    "# need to assemble per attribute for every level of that attribute in dicionary\n",
    "range_per_feature = dict()\n",
    "for key, coeff in res.params.items():\n",
    "    sk =  key.split('_')\n",
    "    feature = sk[0]\n",
    "    if len(sk) == 1:\n",
    "        feature = key\n",
    "    if feature not in range_per_feature:\n",
    "        range_per_feature[feature] = list()\n",
    "        \n",
    "    range_per_feature[feature].append(coeff)"
   ]
  },
  {
   "cell_type": "code",
   "execution_count": 36,
   "metadata": {},
   "outputs": [],
   "source": [
    "# importance per feature is range of coef in a feature\n",
    "# while range is simply max(x) - min(x)\n",
    "importance_per_feature = {\n",
    "    k: max(v) - min(v) for k, v in range_per_feature.items()\n",
    "}"
   ]
  },
  {
   "cell_type": "code",
   "execution_count": 37,
   "metadata": {},
   "outputs": [
    {
     "data": {
      "image/png": "[encoded data removed]",
      "text/plain": [
       "<Figure size 864x576 with 1 Axes>"
      ]
     },
     "metadata": {
      "needs_background": "light"
     },
     "output_type": "display_data"
    }
   ],
   "source": [
    "alt_data = pd.DataFrame(\n",
    "    list(importance_per_feature.items()), \n",
    "    columns=['attr', 'importance']\n",
    ").sort_values(by='importance', ascending=False)\n",
    "\n",
    "\n",
    "f, ax = plt.subplots(figsize=(12, 8))\n",
    "xbar = np.arange(len(alt_data['attr']))\n",
    "plt.title('Importance')\n",
    "plt.barh(xbar, alt_data['importance'])\n",
    "for i, v in enumerate(alt_data['importance']):\n",
    "    ax.text(v , i + .25, '{:.2f}'.format(v))\n",
    "plt.ylabel('attributes')\n",
    "plt.xlabel('% importance')\n",
    "plt.yticks(xbar, alt_data['attr'])\n",
    "plt.show()"
   ]
  }
 ],
 "metadata": {
  "kernelspec": {
   "display_name": "Python 3",
   "language": "python",
   "name": "python3"
  },
  "language_info": {
   "codemirror_mode": {
    "name": "ipython",
    "version": 3
   },
   "file_extension": ".py",
   "mimetype": "text/x-python",
   "name": "python",
   "nbconvert_exporter": "python",
   "pygments_lexer": "ipython3",
   "version": "3.8.2"
  }
 },
 "nbformat": 4,
 "nbformat_minor": 2
}
