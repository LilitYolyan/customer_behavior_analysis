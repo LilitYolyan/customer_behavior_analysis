{
 "cells": [
  {
   "cell_type": "markdown",
   "metadata": {},
   "source": [
    "# Next Purchase Prediction\n",
    "\n",
    "What if you know if a customer is likely to make another purchase in 7 days?\n",
    "\n",
    "You can build your strategy on top of that and come up with lots of tactical actions like:\n",
    "\n",
    "- No promotional offer to this customer since s/he will make a purchase anyways\n",
    "- Nudge the customer with inbound marketing if there is no purchase in the predicted time window (or fire the guy who did the prediction) \n",
    "\n",
    "**Outilne** \n",
    "\n",
    "- Feature Engineering\n",
    "- Modeling\n",
    "- Drowing a conclusion"
   ]
  },
  {
   "cell_type": "markdown",
   "metadata": {},
   "source": [
    "Data for the analysis was taken from [kaggle](https://www.kaggle.com/mkechinov/ecommerce-purchase-history-from-jewelry-store)."
   ]
  },
  {
   "cell_type": "markdown",
   "metadata": {},
   "source": [
    "### Data and Packages "
   ]
  },
  {
   "cell_type": "code",
   "execution_count": 1,
   "metadata": {},
   "outputs": [],
   "source": [
    "# Pachages\n",
    "import pandas as pd\n",
    "import numpy as np\n",
    "import matplotlib.pyplot as plt\n",
    "import seaborn as sns\n",
    "import os\n",
    "from datetime import date\n",
    "%matplotlib inline\n",
    "\n",
    "from sklearn import tree\n",
    "from sklearn.model_selection import train_test_split\n",
    "from sklearn.metrics import classification_report, accuracy_score\n",
    "\n",
    "import warnings\n",
    "warnings.filterwarnings('ignore')"
   ]
  },
  {
   "cell_type": "code",
   "execution_count": 2,
   "metadata": {},
   "outputs": [
    {
     "data": {
      "text/html": [
       "<div>\n",
       "<style scoped>\n",
       "    .dataframe tbody tr th:only-of-type {\n",
       "        vertical-align: middle;\n",
       "    }\n",
       "\n",
       "    .dataframe tbody tr th {\n",
       "        vertical-align: top;\n",
       "    }\n",
       "\n",
       "    .dataframe thead th {\n",
       "        text-align: right;\n",
       "    }\n",
       "</style>\n",
       "<table border=\"1\" class=\"dataframe\">\n",
       "  <thead>\n",
       "    <tr style=\"text-align: right;\">\n",
       "      <th></th>\n",
       "      <th>event_time</th>\n",
       "      <th>order_id</th>\n",
       "      <th>product_id</th>\n",
       "      <th>quantity</th>\n",
       "      <th>category_id</th>\n",
       "      <th>category_code</th>\n",
       "      <th>brand</th>\n",
       "      <th>price</th>\n",
       "      <th>user_id</th>\n",
       "      <th>gender</th>\n",
       "      <th>color</th>\n",
       "      <th>metal</th>\n",
       "      <th>gem</th>\n",
       "    </tr>\n",
       "  </thead>\n",
       "  <tbody>\n",
       "    <tr>\n",
       "      <th>0</th>\n",
       "      <td>2018-11-29 16:30:45 UTC</td>\n",
       "      <td>1923415742179443254</td>\n",
       "      <td>1836250225916772582</td>\n",
       "      <td>1</td>\n",
       "      <td>1.806829e+18</td>\n",
       "      <td>jewelry.pendant</td>\n",
       "      <td>0.0</td>\n",
       "      <td>67.78</td>\n",
       "      <td>1.515916e+18</td>\n",
       "      <td>NaN</td>\n",
       "      <td>red</td>\n",
       "      <td>gold</td>\n",
       "      <td>diamond</td>\n",
       "    </tr>\n",
       "    <tr>\n",
       "      <th>1</th>\n",
       "      <td>2018-11-29 16:52:07 UTC</td>\n",
       "      <td>1923426489303302817</td>\n",
       "      <td>1836015460420681761</td>\n",
       "      <td>1</td>\n",
       "      <td>1.806829e+18</td>\n",
       "      <td>jewelry.pendant</td>\n",
       "      <td>0.0</td>\n",
       "      <td>32.63</td>\n",
       "      <td>1.515916e+18</td>\n",
       "      <td>NaN</td>\n",
       "      <td>red</td>\n",
       "      <td>gold</td>\n",
       "      <td>NaN</td>\n",
       "    </tr>\n",
       "    <tr>\n",
       "      <th>2</th>\n",
       "      <td>2018-11-29 17:58:37 UTC</td>\n",
       "      <td>1923459963229831173</td>\n",
       "      <td>1806829194936582544</td>\n",
       "      <td>1</td>\n",
       "      <td>1.806829e+18</td>\n",
       "      <td>jewelry.ring</td>\n",
       "      <td>1.0</td>\n",
       "      <td>75.21</td>\n",
       "      <td>1.515916e+18</td>\n",
       "      <td>NaN</td>\n",
       "      <td>red</td>\n",
       "      <td>gold</td>\n",
       "      <td>amethyst</td>\n",
       "    </tr>\n",
       "    <tr>\n",
       "      <th>3</th>\n",
       "      <td>2018-11-29 20:25:52 UTC</td>\n",
       "      <td>1923534078074684181</td>\n",
       "      <td>1835566854668550661</td>\n",
       "      <td>1</td>\n",
       "      <td>1.806829e+18</td>\n",
       "      <td>jewelry.earring</td>\n",
       "      <td>0.0</td>\n",
       "      <td>131.37</td>\n",
       "      <td>1.515916e+18</td>\n",
       "      <td>f</td>\n",
       "      <td>red</td>\n",
       "      <td>gold</td>\n",
       "      <td>NaN</td>\n",
       "    </tr>\n",
       "    <tr>\n",
       "      <th>4</th>\n",
       "      <td>2018-11-29 20:30:01 UTC</td>\n",
       "      <td>1923536169069445939</td>\n",
       "      <td>1836568752905257618</td>\n",
       "      <td>1</td>\n",
       "      <td>1.806829e+18</td>\n",
       "      <td>jewelry.bracelet</td>\n",
       "      <td>0.0</td>\n",
       "      <td>102.60</td>\n",
       "      <td>1.515916e+18</td>\n",
       "      <td>f</td>\n",
       "      <td>red</td>\n",
       "      <td>gold</td>\n",
       "      <td>NaN</td>\n",
       "    </tr>\n",
       "  </tbody>\n",
       "</table>\n",
       "</div>"
      ],
      "text/plain": [
       "                event_time             order_id           product_id  \\\n",
       "0  2018-11-29 16:30:45 UTC  1923415742179443254  1836250225916772582   \n",
       "1  2018-11-29 16:52:07 UTC  1923426489303302817  1836015460420681761   \n",
       "2  2018-11-29 17:58:37 UTC  1923459963229831173  1806829194936582544   \n",
       "3  2018-11-29 20:25:52 UTC  1923534078074684181  1835566854668550661   \n",
       "4  2018-11-29 20:30:01 UTC  1923536169069445939  1836568752905257618   \n",
       "\n",
       "   quantity   category_id     category_code  brand   price       user_id  \\\n",
       "0         1  1.806829e+18   jewelry.pendant    0.0   67.78  1.515916e+18   \n",
       "1         1  1.806829e+18   jewelry.pendant    0.0   32.63  1.515916e+18   \n",
       "2         1  1.806829e+18      jewelry.ring    1.0   75.21  1.515916e+18   \n",
       "3         1  1.806829e+18   jewelry.earring    0.0  131.37  1.515916e+18   \n",
       "4         1  1.806829e+18  jewelry.bracelet    0.0  102.60  1.515916e+18   \n",
       "\n",
       "  gender color metal       gem  \n",
       "0    NaN   red  gold   diamond  \n",
       "1    NaN   red  gold       NaN  \n",
       "2    NaN   red  gold  amethyst  \n",
       "3      f   red  gold       NaN  \n",
       "4      f   red  gold       NaN  "
      ]
     },
     "execution_count": 2,
     "metadata": {},
     "output_type": "execute_result"
    }
   ],
   "source": [
    "# Dataset\n",
    "data = pd.read_csv('jewelry.csv')\n",
    "data.head()"
   ]
  },
  {
   "cell_type": "code",
   "execution_count": 3,
   "metadata": {},
   "outputs": [
    {
     "name": "stdout",
     "output_type": "stream",
     "text": [
      "<class 'pandas.core.frame.DataFrame'>\n",
      "RangeIndex: 113302 entries, 0 to 113301\n",
      "Data columns (total 13 columns):\n",
      " #   Column         Non-Null Count   Dtype  \n",
      "---  ------         --------------   -----  \n",
      " 0   event_time     113302 non-null  object \n",
      " 1   order_id       113302 non-null  int64  \n",
      " 2   product_id     113302 non-null  int64  \n",
      " 3   quantity       113302 non-null  int64  \n",
      " 4   category_id    112905 non-null  float64\n",
      " 5   category_code  103674 non-null  object \n",
      " 6   brand          111936 non-null  float64\n",
      " 7   price          112905 non-null  float64\n",
      " 8   user_id        112905 non-null  float64\n",
      " 9   gender         62223 non-null   object \n",
      " 10  color          110166 non-null  object \n",
      " 11  metal          112851 non-null  object \n",
      " 12  gem            77095 non-null   object \n",
      "dtypes: float64(4), int64(3), object(6)\n",
      "memory usage: 11.2+ MB\n"
     ]
    }
   ],
   "source": [
    "data.info()"
   ]
  },
  {
   "cell_type": "code",
   "execution_count": 4,
   "metadata": {},
   "outputs": [],
   "source": [
    "cols = ['order_id', 'product_id', 'category_id', 'user_id']\n",
    "\n",
    "for col in cols: \n",
    "    data[col] = data[col].astype('O')\n",
    "    \n",
    "data['event_time'] = pd.to_datetime(data['event_time'])"
   ]
  },
  {
   "cell_type": "markdown",
   "metadata": {},
   "source": [
    "## EDA"
   ]
  },
  {
   "cell_type": "markdown",
   "metadata": {},
   "source": [
    "As usual, we start with a quick exploratory data analysis. Describe the plots and draw conclusions."
   ]
  },
  {
   "cell_type": "code",
   "execution_count": 5,
   "metadata": {},
   "outputs": [],
   "source": [
    "def plot_continuous(dataset, var_name):\n",
    "    sns.displot(dataset[var_name])\n",
    "    plt.axvline(dataset[var_name].mean(), color='k', linestyle='dashed', linewidth=1)\n",
    "    plt.axvline(dataset[var_name].median(), color='r', linewidth=1)\n",
    "    plt.title(f'Distribution of variable \"{var_name}\"')\n",
    "    \n",
    "def plot_objects(dataset, var_name):\n",
    "    sns.countplot(dataset[var_name])\n",
    "    plt.title(f'Distribution of variable \"{var_name}\"')"
   ]
  },
  {
   "cell_type": "code",
   "execution_count": 6,
   "metadata": {},
   "outputs": [
    {
     "data": {
      "image/png": "[encoded data removed]",
      "text/plain": [
       "<Figure size 360x360 with 1 Axes>"
      ]
     },
     "metadata": {
      "needs_background": "light"
     },
     "output_type": "display_data"
    }
   ],
   "source": [
    "plot_continuous(data, 'quantity')"
   ]
  },
  {
   "cell_type": "code",
   "execution_count": 7,
   "metadata": {},
   "outputs": [
    {
     "data": {
      "image/png": "[encoded data removed]",
      "text/plain": [
       "<Figure size 360x360 with 1 Axes>"
      ]
     },
     "metadata": {
      "needs_background": "light"
     },
     "output_type": "display_data"
    }
   ],
   "source": [
    "plot_continuous(data, 'price')"
   ]
  },
  {
   "cell_type": "code",
   "execution_count": 8,
   "metadata": {},
   "outputs": [
    {
     "data": {
      "image/png": "[encoded data removed]",
      "text/plain": [
       "<Figure size 360x360 with 1 Axes>"
      ]
     },
     "metadata": {
      "needs_background": "light"
     },
     "output_type": "display_data"
    }
   ],
   "source": [
    "plot_continuous(data[data['price'] < 3000], 'price')"
   ]
  },
  {
   "cell_type": "code",
   "execution_count": 9,
   "metadata": {},
   "outputs": [
    {
     "data": {
      "image/png": "[encoded data removed]",
      "text/plain": [
       "<Figure size 432x288 with 1 Axes>"
      ]
     },
     "metadata": {
      "needs_background": "light"
     },
     "output_type": "display_data"
    }
   ],
   "source": [
    "plot_objects(data, 'gender')"
   ]
  },
  {
   "cell_type": "code",
   "execution_count": 10,
   "metadata": {},
   "outputs": [
    {
     "data": {
      "image/png": "[encoded data removed]",
      "text/plain": [
       "<Figure size 432x288 with 1 Axes>"
      ]
     },
     "metadata": {
      "needs_background": "light"
     },
     "output_type": "display_data"
    }
   ],
   "source": [
    "plot_objects(data, 'color')"
   ]
  },
  {
   "cell_type": "code",
   "execution_count": 11,
   "metadata": {},
   "outputs": [
    {
     "data": {
      "image/png": "[encoded data removed]",
      "text/plain": [
       "<Figure size 432x288 with 1 Axes>"
      ]
     },
     "metadata": {
      "needs_background": "light"
     },
     "output_type": "display_data"
    }
   ],
   "source": [
    "plot_objects(data, 'metal')"
   ]
  },
  {
   "cell_type": "code",
   "execution_count": 12,
   "metadata": {},
   "outputs": [
    {
     "data": {
      "text/plain": [
       "count                        113302\n",
       "unique                        85458\n",
       "top       2019-01-27 17:40:15+00:00\n",
       "freq                             30\n",
       "first     2018-11-29 16:30:45+00:00\n",
       "last      2020-11-29 14:39:47+00:00\n",
       "Name: event_time, dtype: object"
      ]
     },
     "execution_count": 12,
     "metadata": {},
     "output_type": "execute_result"
    }
   ],
   "source": [
    "data.event_time.describe()"
   ]
  },
  {
   "cell_type": "markdown",
   "metadata": {},
   "source": [
    "We're going to use 6 months of data to make predictions."
   ]
  },
  {
   "cell_type": "code",
   "execution_count": 13,
   "metadata": {},
   "outputs": [],
   "source": [
    "purch_hist = data[(data.event_time < '2020-5-29')]\n",
    "purch_next = data[(data.event_time >= '2020-5-29')].reset_index(drop=True)"
   ]
  },
  {
   "cell_type": "code",
   "execution_count": 14,
   "metadata": {},
   "outputs": [],
   "source": [
    "customer  = pd.DataFrame(purch_hist['user_id'].unique())\n",
    "customer.columns = ['user_id']"
   ]
  },
  {
   "cell_type": "code",
   "execution_count": 15,
   "metadata": {},
   "outputs": [
    {
     "data": {
      "text/plain": [
       "((85323, 13), (27979, 13), (35047, 1))"
      ]
     },
     "execution_count": 15,
     "metadata": {},
     "output_type": "execute_result"
    }
   ],
   "source": [
    "purch_hist.shape, purch_next.shape, customer.shape"
   ]
  },
  {
   "cell_type": "markdown",
   "metadata": {},
   "source": [
    "### Labeling"
   ]
  },
  {
   "cell_type": "code",
   "execution_count": 16,
   "metadata": {},
   "outputs": [
    {
     "data": {
      "text/html": [
       "<div>\n",
       "<style scoped>\n",
       "    .dataframe tbody tr th:only-of-type {\n",
       "        vertical-align: middle;\n",
       "    }\n",
       "\n",
       "    .dataframe tbody tr th {\n",
       "        vertical-align: top;\n",
       "    }\n",
       "\n",
       "    .dataframe thead th {\n",
       "        text-align: right;\n",
       "    }\n",
       "</style>\n",
       "<table border=\"1\" class=\"dataframe\">\n",
       "  <thead>\n",
       "    <tr style=\"text-align: right;\">\n",
       "      <th></th>\n",
       "      <th>user_id</th>\n",
       "      <th>MinNextPurchase</th>\n",
       "    </tr>\n",
       "  </thead>\n",
       "  <tbody>\n",
       "    <tr>\n",
       "      <th>0</th>\n",
       "      <td>1.313554e+18</td>\n",
       "      <td>2020-06-27 17:17:01+00:00</td>\n",
       "    </tr>\n",
       "    <tr>\n",
       "      <th>1</th>\n",
       "      <td>1.313556e+18</td>\n",
       "      <td>2020-07-30 07:27:33+00:00</td>\n",
       "    </tr>\n",
       "    <tr>\n",
       "      <th>2</th>\n",
       "      <td>1.313591e+18</td>\n",
       "      <td>2020-09-21 03:23:39+00:00</td>\n",
       "    </tr>\n",
       "    <tr>\n",
       "      <th>3</th>\n",
       "      <td>1.313658e+18</td>\n",
       "      <td>2020-06-22 07:10:20+00:00</td>\n",
       "    </tr>\n",
       "    <tr>\n",
       "      <th>4</th>\n",
       "      <td>1.313673e+18</td>\n",
       "      <td>2020-07-05 15:52:35+00:00</td>\n",
       "    </tr>\n",
       "  </tbody>\n",
       "</table>\n",
       "</div>"
      ],
      "text/plain": [
       "        user_id           MinNextPurchase\n",
       "0  1.313554e+18 2020-06-27 17:17:01+00:00\n",
       "1  1.313556e+18 2020-07-30 07:27:33+00:00\n",
       "2  1.313591e+18 2020-09-21 03:23:39+00:00\n",
       "3  1.313658e+18 2020-06-22 07:10:20+00:00\n",
       "4  1.313673e+18 2020-07-05 15:52:35+00:00"
      ]
     },
     "execution_count": 16,
     "metadata": {},
     "output_type": "execute_result"
    }
   ],
   "source": [
    "next_ = purch_next.groupby('user_id').event_time.min().reset_index()\n",
    "next_.columns = ['user_id','MinNextPurchase']\n",
    "next_.head()"
   ]
  },
  {
   "cell_type": "code",
   "execution_count": 17,
   "metadata": {},
   "outputs": [
    {
     "data": {
      "text/html": [
       "<div>\n",
       "<style scoped>\n",
       "    .dataframe tbody tr th:only-of-type {\n",
       "        vertical-align: middle;\n",
       "    }\n",
       "\n",
       "    .dataframe tbody tr th {\n",
       "        vertical-align: top;\n",
       "    }\n",
       "\n",
       "    .dataframe thead th {\n",
       "        text-align: right;\n",
       "    }\n",
       "</style>\n",
       "<table border=\"1\" class=\"dataframe\">\n",
       "  <thead>\n",
       "    <tr style=\"text-align: right;\">\n",
       "      <th></th>\n",
       "      <th>user_id</th>\n",
       "      <th>MaxHistPurchase</th>\n",
       "      <th>MinNextPurchase</th>\n",
       "      <th>NextPurchaseDay</th>\n",
       "    </tr>\n",
       "  </thead>\n",
       "  <tbody>\n",
       "    <tr>\n",
       "      <th>0</th>\n",
       "      <td>1.313556e+18</td>\n",
       "      <td>2019-08-02 10:00:19+00:00</td>\n",
       "      <td>2020-07-30 07:27:33+00:00</td>\n",
       "      <td>362.0</td>\n",
       "    </tr>\n",
       "    <tr>\n",
       "      <th>1</th>\n",
       "      <td>1.313556e+18</td>\n",
       "      <td>2019-09-18 10:06:37+00:00</td>\n",
       "      <td>NaT</td>\n",
       "      <td>NaN</td>\n",
       "    </tr>\n",
       "    <tr>\n",
       "      <th>2</th>\n",
       "      <td>1.313566e+18</td>\n",
       "      <td>2020-04-29 19:51:44+00:00</td>\n",
       "      <td>NaT</td>\n",
       "      <td>NaN</td>\n",
       "    </tr>\n",
       "    <tr>\n",
       "      <th>3</th>\n",
       "      <td>1.313568e+18</td>\n",
       "      <td>2019-10-29 08:54:50+00:00</td>\n",
       "      <td>NaT</td>\n",
       "      <td>NaN</td>\n",
       "    </tr>\n",
       "    <tr>\n",
       "      <th>4</th>\n",
       "      <td>1.313569e+18</td>\n",
       "      <td>2019-02-03 09:36:43+00:00</td>\n",
       "      <td>NaT</td>\n",
       "      <td>NaN</td>\n",
       "    </tr>\n",
       "  </tbody>\n",
       "</table>\n",
       "</div>"
      ],
      "text/plain": [
       "        user_id           MaxHistPurchase           MinNextPurchase  \\\n",
       "0  1.313556e+18 2019-08-02 10:00:19+00:00 2020-07-30 07:27:33+00:00   \n",
       "1  1.313556e+18 2019-09-18 10:06:37+00:00                       NaT   \n",
       "2  1.313566e+18 2020-04-29 19:51:44+00:00                       NaT   \n",
       "3  1.313568e+18 2019-10-29 08:54:50+00:00                       NaT   \n",
       "4  1.313569e+18 2019-02-03 09:36:43+00:00                       NaT   \n",
       "\n",
       "   NextPurchaseDay  \n",
       "0            362.0  \n",
       "1              NaN  \n",
       "2              NaN  \n",
       "3              NaN  \n",
       "4              NaN  "
      ]
     },
     "execution_count": 17,
     "metadata": {},
     "output_type": "execute_result"
    }
   ],
   "source": [
    "last_ = purch_hist.groupby('user_id').event_time.max().reset_index()\n",
    "last_.columns = ['user_id','MaxHistPurchase']\n",
    "purchase = pd.merge(last_, next_,on='user_id',how='left')\n",
    "purchase['NextPurchaseDay'] = (purchase['MinNextPurchase'] - purchase['MaxHistPurchase']).dt.days\n",
    "purchase.head()"
   ]
  },
  {
   "cell_type": "code",
   "execution_count": 18,
   "metadata": {},
   "outputs": [
    {
     "name": "stdout",
     "output_type": "stream",
     "text": [
      "Number of retained customers:  1538\n"
     ]
    },
    {
     "data": {
      "text/plain": [
       "(35047, 2)"
      ]
     },
     "execution_count": 18,
     "metadata": {},
     "output_type": "execute_result"
    }
   ],
   "source": [
    "customer = pd.merge(customer, purchase[['user_id','NextPurchaseDay']],on='user_id',how='left')\n",
    "print('Number of retained customers: ', customer.NextPurchaseDay.notna().sum())\n",
    "customer = customer.fillna(-1)\n",
    "customer.shape"
   ]
  },
  {
   "cell_type": "markdown",
   "metadata": {},
   "source": [
    "###  New Features"
   ]
  },
  {
   "cell_type": "code",
   "execution_count": 19,
   "metadata": {},
   "outputs": [],
   "source": [
    "day_order = purch_hist[['user_id','event_time']]\n",
    "day_order = day_order.sort_values(['user_id','event_time'])\n",
    "day_order = day_order.drop_duplicates(subset=['user_id','event_time'],keep='first')\n",
    "\n",
    "# last 3 purchase dates\n",
    "day_order['Previous'] = day_order.groupby('user_id')['event_time'].shift(1)\n",
    "day_order['Previous2'] = day_order.groupby('user_id')['event_time'].shift(2)\n",
    "day_order['Previous3'] = day_order.groupby('user_id')['event_time'].shift(3)\n"
   ]
  },
  {
   "cell_type": "code",
   "execution_count": 20,
   "metadata": {},
   "outputs": [
    {
     "data": {
      "text/html": [
       "<div>\n",
       "<style scoped>\n",
       "    .dataframe tbody tr th:only-of-type {\n",
       "        vertical-align: middle;\n",
       "    }\n",
       "\n",
       "    .dataframe tbody tr th {\n",
       "        vertical-align: top;\n",
       "    }\n",
       "\n",
       "    .dataframe thead th {\n",
       "        text-align: right;\n",
       "    }\n",
       "</style>\n",
       "<table border=\"1\" class=\"dataframe\">\n",
       "  <thead>\n",
       "    <tr style=\"text-align: right;\">\n",
       "      <th></th>\n",
       "      <th>user_id</th>\n",
       "      <th>event_time</th>\n",
       "      <th>Previous</th>\n",
       "      <th>Previous2</th>\n",
       "      <th>Previous3</th>\n",
       "    </tr>\n",
       "  </thead>\n",
       "  <tbody>\n",
       "    <tr>\n",
       "      <th>31657</th>\n",
       "      <td>1.31356e+18</td>\n",
       "      <td>2019-08-02 10:00:19+00:00</td>\n",
       "      <td>NaT</td>\n",
       "      <td>NaT</td>\n",
       "      <td>NaT</td>\n",
       "    </tr>\n",
       "    <tr>\n",
       "      <th>1026</th>\n",
       "      <td>1.31356e+18</td>\n",
       "      <td>2019-01-09 06:17:34+00:00</td>\n",
       "      <td>NaT</td>\n",
       "      <td>NaT</td>\n",
       "      <td>NaT</td>\n",
       "    </tr>\n",
       "    <tr>\n",
       "      <th>3473</th>\n",
       "      <td>1.31356e+18</td>\n",
       "      <td>2019-01-26 19:05:13+00:00</td>\n",
       "      <td>2019-01-09 06:17:34+00:00</td>\n",
       "      <td>NaT</td>\n",
       "      <td>NaT</td>\n",
       "    </tr>\n",
       "    <tr>\n",
       "      <th>38429</th>\n",
       "      <td>1.31356e+18</td>\n",
       "      <td>2019-09-18 10:06:37+00:00</td>\n",
       "      <td>2019-01-26 19:05:13+00:00</td>\n",
       "      <td>2019-01-09 06:17:34+00:00</td>\n",
       "      <td>NaT</td>\n",
       "    </tr>\n",
       "    <tr>\n",
       "      <th>20633</th>\n",
       "      <td>1.31357e+18</td>\n",
       "      <td>2019-05-21 09:33:00+00:00</td>\n",
       "      <td>NaT</td>\n",
       "      <td>NaT</td>\n",
       "      <td>NaT</td>\n",
       "    </tr>\n",
       "    <tr>\n",
       "      <th>82758</th>\n",
       "      <td>1.31357e+18</td>\n",
       "      <td>2020-04-29 19:50:22+00:00</td>\n",
       "      <td>2019-05-21 09:33:00+00:00</td>\n",
       "      <td>NaT</td>\n",
       "      <td>NaT</td>\n",
       "    </tr>\n",
       "    <tr>\n",
       "      <th>82759</th>\n",
       "      <td>1.31357e+18</td>\n",
       "      <td>2020-04-29 19:51:44+00:00</td>\n",
       "      <td>2020-04-29 19:50:22+00:00</td>\n",
       "      <td>2019-05-21 09:33:00+00:00</td>\n",
       "      <td>NaT</td>\n",
       "    </tr>\n",
       "    <tr>\n",
       "      <th>26916</th>\n",
       "      <td>1.31357e+18</td>\n",
       "      <td>2019-07-04 07:01:52+00:00</td>\n",
       "      <td>NaT</td>\n",
       "      <td>NaT</td>\n",
       "      <td>NaT</td>\n",
       "    </tr>\n",
       "    <tr>\n",
       "      <th>28043</th>\n",
       "      <td>1.31357e+18</td>\n",
       "      <td>2019-07-11 14:22:05+00:00</td>\n",
       "      <td>2019-07-04 07:01:52+00:00</td>\n",
       "      <td>NaT</td>\n",
       "      <td>NaT</td>\n",
       "    </tr>\n",
       "    <tr>\n",
       "      <th>44950</th>\n",
       "      <td>1.31357e+18</td>\n",
       "      <td>2019-10-29 08:54:50+00:00</td>\n",
       "      <td>2019-07-11 14:22:05+00:00</td>\n",
       "      <td>2019-07-04 07:01:52+00:00</td>\n",
       "      <td>NaT</td>\n",
       "    </tr>\n",
       "  </tbody>\n",
       "</table>\n",
       "</div>"
      ],
      "text/plain": [
       "           user_id                event_time                  Previous  \\\n",
       "31657  1.31356e+18 2019-08-02 10:00:19+00:00                       NaT   \n",
       "1026   1.31356e+18 2019-01-09 06:17:34+00:00                       NaT   \n",
       "3473   1.31356e+18 2019-01-26 19:05:13+00:00 2019-01-09 06:17:34+00:00   \n",
       "38429  1.31356e+18 2019-09-18 10:06:37+00:00 2019-01-26 19:05:13+00:00   \n",
       "20633  1.31357e+18 2019-05-21 09:33:00+00:00                       NaT   \n",
       "82758  1.31357e+18 2020-04-29 19:50:22+00:00 2019-05-21 09:33:00+00:00   \n",
       "82759  1.31357e+18 2020-04-29 19:51:44+00:00 2020-04-29 19:50:22+00:00   \n",
       "26916  1.31357e+18 2019-07-04 07:01:52+00:00                       NaT   \n",
       "28043  1.31357e+18 2019-07-11 14:22:05+00:00 2019-07-04 07:01:52+00:00   \n",
       "44950  1.31357e+18 2019-10-29 08:54:50+00:00 2019-07-11 14:22:05+00:00   \n",
       "\n",
       "                      Previous2 Previous3  \n",
       "31657                       NaT       NaT  \n",
       "1026                        NaT       NaT  \n",
       "3473                        NaT       NaT  \n",
       "38429 2019-01-09 06:17:34+00:00       NaT  \n",
       "20633                       NaT       NaT  \n",
       "82758                       NaT       NaT  \n",
       "82759 2019-05-21 09:33:00+00:00       NaT  \n",
       "26916                       NaT       NaT  \n",
       "28043                       NaT       NaT  \n",
       "44950 2019-07-04 07:01:52+00:00       NaT  "
      ]
     },
     "execution_count": 20,
     "metadata": {},
     "output_type": "execute_result"
    }
   ],
   "source": [
    "day_order.head(10)"
   ]
  },
  {
   "cell_type": "code",
   "execution_count": 21,
   "metadata": {},
   "outputs": [
    {
     "data": {
      "text/html": [
       "<div>\n",
       "<style scoped>\n",
       "    .dataframe tbody tr th:only-of-type {\n",
       "        vertical-align: middle;\n",
       "    }\n",
       "\n",
       "    .dataframe tbody tr th {\n",
       "        vertical-align: top;\n",
       "    }\n",
       "\n",
       "    .dataframe thead th {\n",
       "        text-align: right;\n",
       "    }\n",
       "</style>\n",
       "<table border=\"1\" class=\"dataframe\">\n",
       "  <thead>\n",
       "    <tr style=\"text-align: right;\">\n",
       "      <th></th>\n",
       "      <th>Number of NAs</th>\n",
       "      <th>Percentage of NAs</th>\n",
       "    </tr>\n",
       "  </thead>\n",
       "  <tbody>\n",
       "    <tr>\n",
       "      <th>user_id</th>\n",
       "      <td>243</td>\n",
       "      <td>0.378</td>\n",
       "    </tr>\n",
       "    <tr>\n",
       "      <th>event_time</th>\n",
       "      <td>0</td>\n",
       "      <td>0.000</td>\n",
       "    </tr>\n",
       "    <tr>\n",
       "      <th>Previous</th>\n",
       "      <td>35289</td>\n",
       "      <td>54.943</td>\n",
       "    </tr>\n",
       "    <tr>\n",
       "      <th>Previous2</th>\n",
       "      <td>43864</td>\n",
       "      <td>68.294</td>\n",
       "    </tr>\n",
       "    <tr>\n",
       "      <th>Previous3</th>\n",
       "      <td>47144</td>\n",
       "      <td>73.401</td>\n",
       "    </tr>\n",
       "  </tbody>\n",
       "</table>\n",
       "</div>"
      ],
      "text/plain": [
       "            Number of NAs  Percentage of NAs\n",
       "user_id               243              0.378\n",
       "event_time              0              0.000\n",
       "Previous            35289             54.943\n",
       "Previous2           43864             68.294\n",
       "Previous3           47144             73.401"
      ]
     },
     "execution_count": 21,
     "metadata": {},
     "output_type": "execute_result"
    }
   ],
   "source": [
    "data_nas = pd.DataFrame(day_order.isna().sum(), columns=['Number of NAs'])\n",
    "data_nas['Percentage of NAs'] = round(data_nas['Number of NAs'] / day_order.shape[0] *100, 3)\n",
    "data_nas"
   ]
  },
  {
   "cell_type": "code",
   "execution_count": 22,
   "metadata": {},
   "outputs": [
    {
     "data": {
      "text/html": [
       "<div>\n",
       "<style scoped>\n",
       "    .dataframe tbody tr th:only-of-type {\n",
       "        vertical-align: middle;\n",
       "    }\n",
       "\n",
       "    .dataframe tbody tr th {\n",
       "        vertical-align: top;\n",
       "    }\n",
       "\n",
       "    .dataframe thead th {\n",
       "        text-align: right;\n",
       "    }\n",
       "</style>\n",
       "<table border=\"1\" class=\"dataframe\">\n",
       "  <thead>\n",
       "    <tr style=\"text-align: right;\">\n",
       "      <th></th>\n",
       "      <th>user_id</th>\n",
       "      <th>event_time</th>\n",
       "      <th>Previous</th>\n",
       "      <th>Previous2</th>\n",
       "      <th>Previous3</th>\n",
       "      <th>DayDiff</th>\n",
       "      <th>DayDiff2</th>\n",
       "      <th>DayDiff3</th>\n",
       "    </tr>\n",
       "  </thead>\n",
       "  <tbody>\n",
       "    <tr>\n",
       "      <th>31657</th>\n",
       "      <td>1.31356e+18</td>\n",
       "      <td>2019-08-02 10:00:19+00:00</td>\n",
       "      <td>NaT</td>\n",
       "      <td>NaT</td>\n",
       "      <td>NaT</td>\n",
       "      <td>NaN</td>\n",
       "      <td>NaN</td>\n",
       "      <td>NaN</td>\n",
       "    </tr>\n",
       "    <tr>\n",
       "      <th>1026</th>\n",
       "      <td>1.31356e+18</td>\n",
       "      <td>2019-01-09 06:17:34+00:00</td>\n",
       "      <td>NaT</td>\n",
       "      <td>NaT</td>\n",
       "      <td>NaT</td>\n",
       "      <td>NaN</td>\n",
       "      <td>NaN</td>\n",
       "      <td>NaN</td>\n",
       "    </tr>\n",
       "    <tr>\n",
       "      <th>3473</th>\n",
       "      <td>1.31356e+18</td>\n",
       "      <td>2019-01-26 19:05:13+00:00</td>\n",
       "      <td>2019-01-09 06:17:34+00:00</td>\n",
       "      <td>NaT</td>\n",
       "      <td>NaT</td>\n",
       "      <td>17.0</td>\n",
       "      <td>NaN</td>\n",
       "      <td>NaN</td>\n",
       "    </tr>\n",
       "    <tr>\n",
       "      <th>38429</th>\n",
       "      <td>1.31356e+18</td>\n",
       "      <td>2019-09-18 10:06:37+00:00</td>\n",
       "      <td>2019-01-26 19:05:13+00:00</td>\n",
       "      <td>2019-01-09 06:17:34+00:00</td>\n",
       "      <td>NaT</td>\n",
       "      <td>234.0</td>\n",
       "      <td>252.0</td>\n",
       "      <td>NaN</td>\n",
       "    </tr>\n",
       "    <tr>\n",
       "      <th>20633</th>\n",
       "      <td>1.31357e+18</td>\n",
       "      <td>2019-05-21 09:33:00+00:00</td>\n",
       "      <td>NaT</td>\n",
       "      <td>NaT</td>\n",
       "      <td>NaT</td>\n",
       "      <td>NaN</td>\n",
       "      <td>NaN</td>\n",
       "      <td>NaN</td>\n",
       "    </tr>\n",
       "    <tr>\n",
       "      <th>82758</th>\n",
       "      <td>1.31357e+18</td>\n",
       "      <td>2020-04-29 19:50:22+00:00</td>\n",
       "      <td>2019-05-21 09:33:00+00:00</td>\n",
       "      <td>NaT</td>\n",
       "      <td>NaT</td>\n",
       "      <td>344.0</td>\n",
       "      <td>NaN</td>\n",
       "      <td>NaN</td>\n",
       "    </tr>\n",
       "    <tr>\n",
       "      <th>82759</th>\n",
       "      <td>1.31357e+18</td>\n",
       "      <td>2020-04-29 19:51:44+00:00</td>\n",
       "      <td>2020-04-29 19:50:22+00:00</td>\n",
       "      <td>2019-05-21 09:33:00+00:00</td>\n",
       "      <td>NaT</td>\n",
       "      <td>0.0</td>\n",
       "      <td>344.0</td>\n",
       "      <td>NaN</td>\n",
       "    </tr>\n",
       "    <tr>\n",
       "      <th>26916</th>\n",
       "      <td>1.31357e+18</td>\n",
       "      <td>2019-07-04 07:01:52+00:00</td>\n",
       "      <td>NaT</td>\n",
       "      <td>NaT</td>\n",
       "      <td>NaT</td>\n",
       "      <td>NaN</td>\n",
       "      <td>NaN</td>\n",
       "      <td>NaN</td>\n",
       "    </tr>\n",
       "    <tr>\n",
       "      <th>28043</th>\n",
       "      <td>1.31357e+18</td>\n",
       "      <td>2019-07-11 14:22:05+00:00</td>\n",
       "      <td>2019-07-04 07:01:52+00:00</td>\n",
       "      <td>NaT</td>\n",
       "      <td>NaT</td>\n",
       "      <td>7.0</td>\n",
       "      <td>NaN</td>\n",
       "      <td>NaN</td>\n",
       "    </tr>\n",
       "    <tr>\n",
       "      <th>44950</th>\n",
       "      <td>1.31357e+18</td>\n",
       "      <td>2019-10-29 08:54:50+00:00</td>\n",
       "      <td>2019-07-11 14:22:05+00:00</td>\n",
       "      <td>2019-07-04 07:01:52+00:00</td>\n",
       "      <td>NaT</td>\n",
       "      <td>109.0</td>\n",
       "      <td>117.0</td>\n",
       "      <td>NaN</td>\n",
       "    </tr>\n",
       "  </tbody>\n",
       "</table>\n",
       "</div>"
      ],
      "text/plain": [
       "           user_id                event_time                  Previous  \\\n",
       "31657  1.31356e+18 2019-08-02 10:00:19+00:00                       NaT   \n",
       "1026   1.31356e+18 2019-01-09 06:17:34+00:00                       NaT   \n",
       "3473   1.31356e+18 2019-01-26 19:05:13+00:00 2019-01-09 06:17:34+00:00   \n",
       "38429  1.31356e+18 2019-09-18 10:06:37+00:00 2019-01-26 19:05:13+00:00   \n",
       "20633  1.31357e+18 2019-05-21 09:33:00+00:00                       NaT   \n",
       "82758  1.31357e+18 2020-04-29 19:50:22+00:00 2019-05-21 09:33:00+00:00   \n",
       "82759  1.31357e+18 2020-04-29 19:51:44+00:00 2020-04-29 19:50:22+00:00   \n",
       "26916  1.31357e+18 2019-07-04 07:01:52+00:00                       NaT   \n",
       "28043  1.31357e+18 2019-07-11 14:22:05+00:00 2019-07-04 07:01:52+00:00   \n",
       "44950  1.31357e+18 2019-10-29 08:54:50+00:00 2019-07-11 14:22:05+00:00   \n",
       "\n",
       "                      Previous2 Previous3  DayDiff  DayDiff2  DayDiff3  \n",
       "31657                       NaT       NaT      NaN       NaN       NaN  \n",
       "1026                        NaT       NaT      NaN       NaN       NaN  \n",
       "3473                        NaT       NaT     17.0       NaN       NaN  \n",
       "38429 2019-01-09 06:17:34+00:00       NaT    234.0     252.0       NaN  \n",
       "20633                       NaT       NaT      NaN       NaN       NaN  \n",
       "82758                       NaT       NaT    344.0       NaN       NaN  \n",
       "82759 2019-05-21 09:33:00+00:00       NaT      0.0     344.0       NaN  \n",
       "26916                       NaT       NaT      NaN       NaN       NaN  \n",
       "28043                       NaT       NaT      7.0       NaN       NaN  \n",
       "44950 2019-07-04 07:01:52+00:00       NaT    109.0     117.0       NaN  "
      ]
     },
     "execution_count": 22,
     "metadata": {},
     "output_type": "execute_result"
    }
   ],
   "source": [
    "day_order['DayDiff'] = (day_order['event_time'] - day_order['Previous']).dt.days\n",
    "day_order['DayDiff2'] = (day_order['event_time'] - day_order['Previous2']).dt.days\n",
    "day_order['DayDiff3'] = (day_order['event_time'] - day_order['Previous3']).dt.days\n",
    "day_order.head(10)"
   ]
  },
  {
   "cell_type": "code",
   "execution_count": 23,
   "metadata": {},
   "outputs": [
    {
     "data": {
      "text/html": [
       "<div>\n",
       "<style scoped>\n",
       "    .dataframe tbody tr th:only-of-type {\n",
       "        vertical-align: middle;\n",
       "    }\n",
       "\n",
       "    .dataframe tbody tr th {\n",
       "        vertical-align: top;\n",
       "    }\n",
       "\n",
       "    .dataframe thead th {\n",
       "        text-align: right;\n",
       "    }\n",
       "</style>\n",
       "<table border=\"1\" class=\"dataframe\">\n",
       "  <thead>\n",
       "    <tr style=\"text-align: right;\">\n",
       "      <th></th>\n",
       "      <th>user_id</th>\n",
       "      <th>DayDiffMean</th>\n",
       "      <th>DayDiffStd</th>\n",
       "    </tr>\n",
       "  </thead>\n",
       "  <tbody>\n",
       "    <tr>\n",
       "      <th>0</th>\n",
       "      <td>1.313556e+18</td>\n",
       "      <td>NaN</td>\n",
       "      <td>NaN</td>\n",
       "    </tr>\n",
       "    <tr>\n",
       "      <th>1</th>\n",
       "      <td>1.313556e+18</td>\n",
       "      <td>125.5</td>\n",
       "      <td>153.442172</td>\n",
       "    </tr>\n",
       "    <tr>\n",
       "      <th>2</th>\n",
       "      <td>1.313566e+18</td>\n",
       "      <td>172.0</td>\n",
       "      <td>243.244733</td>\n",
       "    </tr>\n",
       "    <tr>\n",
       "      <th>3</th>\n",
       "      <td>1.313568e+18</td>\n",
       "      <td>58.0</td>\n",
       "      <td>72.124892</td>\n",
       "    </tr>\n",
       "    <tr>\n",
       "      <th>4</th>\n",
       "      <td>1.313569e+18</td>\n",
       "      <td>2.0</td>\n",
       "      <td>1.414214</td>\n",
       "    </tr>\n",
       "  </tbody>\n",
       "</table>\n",
       "</div>"
      ],
      "text/plain": [
       "        user_id  DayDiffMean  DayDiffStd\n",
       "0  1.313556e+18          NaN         NaN\n",
       "1  1.313556e+18        125.5  153.442172\n",
       "2  1.313566e+18        172.0  243.244733\n",
       "3  1.313568e+18         58.0   72.124892\n",
       "4  1.313569e+18          2.0    1.414214"
      ]
     },
     "execution_count": 23,
     "metadata": {},
     "output_type": "execute_result"
    }
   ],
   "source": [
    "day_diff = day_order.groupby('user_id').agg({'DayDiff': ['mean','std']}).reset_index()\n",
    "day_diff.columns = ['user_id', 'DayDiffMean','DayDiffStd']\n",
    "day_diff.head()"
   ]
  },
  {
   "cell_type": "code",
   "execution_count": 24,
   "metadata": {},
   "outputs": [
    {
     "data": {
      "text/html": [
       "<div>\n",
       "<style scoped>\n",
       "    .dataframe tbody tr th:only-of-type {\n",
       "        vertical-align: middle;\n",
       "    }\n",
       "\n",
       "    .dataframe tbody tr th {\n",
       "        vertical-align: top;\n",
       "    }\n",
       "\n",
       "    .dataframe thead th {\n",
       "        text-align: right;\n",
       "    }\n",
       "</style>\n",
       "<table border=\"1\" class=\"dataframe\">\n",
       "  <thead>\n",
       "    <tr style=\"text-align: right;\">\n",
       "      <th></th>\n",
       "      <th>user_id</th>\n",
       "      <th>event_time</th>\n",
       "      <th>Previous</th>\n",
       "      <th>Previous2</th>\n",
       "      <th>Previous3</th>\n",
       "      <th>DayDiff</th>\n",
       "      <th>DayDiff2</th>\n",
       "      <th>DayDiff3</th>\n",
       "    </tr>\n",
       "  </thead>\n",
       "  <tbody>\n",
       "    <tr>\n",
       "      <th>31657</th>\n",
       "      <td>1.31356e+18</td>\n",
       "      <td>2019-08-02 10:00:19+00:00</td>\n",
       "      <td>NaT</td>\n",
       "      <td>NaT</td>\n",
       "      <td>NaT</td>\n",
       "      <td>NaN</td>\n",
       "      <td>NaN</td>\n",
       "      <td>NaN</td>\n",
       "    </tr>\n",
       "    <tr>\n",
       "      <th>38429</th>\n",
       "      <td>1.31356e+18</td>\n",
       "      <td>2019-09-18 10:06:37+00:00</td>\n",
       "      <td>2019-01-26 19:05:13+00:00</td>\n",
       "      <td>2019-01-09 06:17:34+00:00</td>\n",
       "      <td>NaT</td>\n",
       "      <td>234.0</td>\n",
       "      <td>252.0</td>\n",
       "      <td>NaN</td>\n",
       "    </tr>\n",
       "    <tr>\n",
       "      <th>82759</th>\n",
       "      <td>1.31357e+18</td>\n",
       "      <td>2020-04-29 19:51:44+00:00</td>\n",
       "      <td>2020-04-29 19:50:22+00:00</td>\n",
       "      <td>2019-05-21 09:33:00+00:00</td>\n",
       "      <td>NaT</td>\n",
       "      <td>0.0</td>\n",
       "      <td>344.0</td>\n",
       "      <td>NaN</td>\n",
       "    </tr>\n",
       "    <tr>\n",
       "      <th>44950</th>\n",
       "      <td>1.31357e+18</td>\n",
       "      <td>2019-10-29 08:54:50+00:00</td>\n",
       "      <td>2019-07-11 14:22:05+00:00</td>\n",
       "      <td>2019-07-04 07:01:52+00:00</td>\n",
       "      <td>NaT</td>\n",
       "      <td>109.0</td>\n",
       "      <td>117.0</td>\n",
       "      <td>NaN</td>\n",
       "    </tr>\n",
       "    <tr>\n",
       "      <th>5026</th>\n",
       "      <td>1.31357e+18</td>\n",
       "      <td>2019-02-03 09:36:43+00:00</td>\n",
       "      <td>2019-01-31 08:25:28+00:00</td>\n",
       "      <td>2019-01-29 08:29:27+00:00</td>\n",
       "      <td>NaT</td>\n",
       "      <td>3.0</td>\n",
       "      <td>5.0</td>\n",
       "      <td>NaN</td>\n",
       "    </tr>\n",
       "  </tbody>\n",
       "</table>\n",
       "</div>"
      ],
      "text/plain": [
       "           user_id                event_time                  Previous  \\\n",
       "31657  1.31356e+18 2019-08-02 10:00:19+00:00                       NaT   \n",
       "38429  1.31356e+18 2019-09-18 10:06:37+00:00 2019-01-26 19:05:13+00:00   \n",
       "82759  1.31357e+18 2020-04-29 19:51:44+00:00 2020-04-29 19:50:22+00:00   \n",
       "44950  1.31357e+18 2019-10-29 08:54:50+00:00 2019-07-11 14:22:05+00:00   \n",
       "5026   1.31357e+18 2019-02-03 09:36:43+00:00 2019-01-31 08:25:28+00:00   \n",
       "\n",
       "                      Previous2 Previous3  DayDiff  DayDiff2  DayDiff3  \n",
       "31657                       NaT       NaT      NaN       NaN       NaN  \n",
       "38429 2019-01-09 06:17:34+00:00       NaT    234.0     252.0       NaN  \n",
       "82759 2019-05-21 09:33:00+00:00       NaT      0.0     344.0       NaN  \n",
       "44950 2019-07-04 07:01:52+00:00       NaT    109.0     117.0       NaN  \n",
       "5026  2019-01-29 08:29:27+00:00       NaT      3.0       5.0       NaN  "
      ]
     },
     "execution_count": 24,
     "metadata": {},
     "output_type": "execute_result"
    }
   ],
   "source": [
    "last_day = day_order.drop_duplicates(subset=['user_id'],keep='last')\n",
    "last_day.head(5)"
   ]
  },
  {
   "cell_type": "code",
   "execution_count": 25,
   "metadata": {
    "scrolled": true
   },
   "outputs": [
    {
     "data": {
      "text/plain": [
       "35046"
      ]
     },
     "execution_count": 25,
     "metadata": {},
     "output_type": "execute_result"
    }
   ],
   "source": [
    "last_day = pd.merge(last_day, day_diff, on='user_id')\n",
    "customer = pd.merge(customer, last_day[['user_id','DayDiff', 'DayDiff2','DayDiffMean','DayDiffStd']], on='user_id')\n",
    "customer = customer.fillna(-1)\n",
    "\n",
    "\n",
    "len(customer)\n",
    "# USE 'DayDiff3' in case you have more data"
   ]
  },
  {
   "cell_type": "code",
   "execution_count": 26,
   "metadata": {},
   "outputs": [
    {
     "data": {
      "text/html": [
       "<div>\n",
       "<style scoped>\n",
       "    .dataframe tbody tr th:only-of-type {\n",
       "        vertical-align: middle;\n",
       "    }\n",
       "\n",
       "    .dataframe tbody tr th {\n",
       "        vertical-align: top;\n",
       "    }\n",
       "\n",
       "    .dataframe thead th {\n",
       "        text-align: right;\n",
       "    }\n",
       "</style>\n",
       "<table border=\"1\" class=\"dataframe\">\n",
       "  <thead>\n",
       "    <tr style=\"text-align: right;\">\n",
       "      <th></th>\n",
       "      <th>user_id</th>\n",
       "      <th>NextPurchaseDay</th>\n",
       "      <th>DayDiff</th>\n",
       "      <th>DayDiff2</th>\n",
       "      <th>DayDiffMean</th>\n",
       "      <th>DayDiffStd</th>\n",
       "    </tr>\n",
       "  </thead>\n",
       "  <tbody>\n",
       "    <tr>\n",
       "      <th>0</th>\n",
       "      <td>1.515916e+18</td>\n",
       "      <td>-1.0</td>\n",
       "      <td>-1.0</td>\n",
       "      <td>-1.0</td>\n",
       "      <td>-1.0</td>\n",
       "      <td>-1.0</td>\n",
       "    </tr>\n",
       "    <tr>\n",
       "      <th>1</th>\n",
       "      <td>1.515916e+18</td>\n",
       "      <td>-1.0</td>\n",
       "      <td>-1.0</td>\n",
       "      <td>-1.0</td>\n",
       "      <td>-1.0</td>\n",
       "      <td>-1.0</td>\n",
       "    </tr>\n",
       "    <tr>\n",
       "      <th>2</th>\n",
       "      <td>1.515916e+18</td>\n",
       "      <td>-1.0</td>\n",
       "      <td>-1.0</td>\n",
       "      <td>-1.0</td>\n",
       "      <td>-1.0</td>\n",
       "      <td>-1.0</td>\n",
       "    </tr>\n",
       "    <tr>\n",
       "      <th>3</th>\n",
       "      <td>1.515916e+18</td>\n",
       "      <td>-1.0</td>\n",
       "      <td>-1.0</td>\n",
       "      <td>-1.0</td>\n",
       "      <td>-1.0</td>\n",
       "      <td>-1.0</td>\n",
       "    </tr>\n",
       "    <tr>\n",
       "      <th>4</th>\n",
       "      <td>1.515916e+18</td>\n",
       "      <td>-1.0</td>\n",
       "      <td>-1.0</td>\n",
       "      <td>-1.0</td>\n",
       "      <td>-1.0</td>\n",
       "      <td>-1.0</td>\n",
       "    </tr>\n",
       "  </tbody>\n",
       "</table>\n",
       "</div>"
      ],
      "text/plain": [
       "        user_id  NextPurchaseDay  DayDiff  DayDiff2  DayDiffMean  DayDiffStd\n",
       "0  1.515916e+18             -1.0     -1.0      -1.0         -1.0        -1.0\n",
       "1  1.515916e+18             -1.0     -1.0      -1.0         -1.0        -1.0\n",
       "2  1.515916e+18             -1.0     -1.0      -1.0         -1.0        -1.0\n",
       "3  1.515916e+18             -1.0     -1.0      -1.0         -1.0        -1.0\n",
       "4  1.515916e+18             -1.0     -1.0      -1.0         -1.0        -1.0"
      ]
     },
     "execution_count": 26,
     "metadata": {},
     "output_type": "execute_result"
    }
   ],
   "source": [
    "customer.head()"
   ]
  },
  {
   "cell_type": "code",
   "execution_count": 27,
   "metadata": {},
   "outputs": [
    {
     "data": {
      "text/html": [
       "<div>\n",
       "<style scoped>\n",
       "    .dataframe tbody tr th:only-of-type {\n",
       "        vertical-align: middle;\n",
       "    }\n",
       "\n",
       "    .dataframe tbody tr th {\n",
       "        vertical-align: top;\n",
       "    }\n",
       "\n",
       "    .dataframe thead th {\n",
       "        text-align: right;\n",
       "    }\n",
       "</style>\n",
       "<table border=\"1\" class=\"dataframe\">\n",
       "  <thead>\n",
       "    <tr style=\"text-align: right;\">\n",
       "      <th></th>\n",
       "      <th>user_id</th>\n",
       "      <th>NextPurchaseDay</th>\n",
       "      <th>DayDiff</th>\n",
       "      <th>DayDiff2</th>\n",
       "      <th>DayDiffMean</th>\n",
       "      <th>DayDiffStd</th>\n",
       "    </tr>\n",
       "  </thead>\n",
       "  <tbody>\n",
       "    <tr>\n",
       "      <th>count</th>\n",
       "      <td>3.504600e+04</td>\n",
       "      <td>35046.000000</td>\n",
       "      <td>35046.000000</td>\n",
       "      <td>35046.000000</td>\n",
       "      <td>35046.000000</td>\n",
       "      <td>35046.000000</td>\n",
       "    </tr>\n",
       "    <tr>\n",
       "      <th>mean</th>\n",
       "      <td>1.514161e+18</td>\n",
       "      <td>9.578554</td>\n",
       "      <td>8.132683</td>\n",
       "      <td>5.312618</td>\n",
       "      <td>8.060151</td>\n",
       "      <td>2.717304</td>\n",
       "    </tr>\n",
       "    <tr>\n",
       "      <th>std</th>\n",
       "      <td>1.692440e+16</td>\n",
       "      <td>58.183763</td>\n",
       "      <td>40.807500</td>\n",
       "      <td>35.368310</td>\n",
       "      <td>37.716419</td>\n",
       "      <td>20.148956</td>\n",
       "    </tr>\n",
       "    <tr>\n",
       "      <th>min</th>\n",
       "      <td>1.313556e+18</td>\n",
       "      <td>-1.000000</td>\n",
       "      <td>-1.000000</td>\n",
       "      <td>-1.000000</td>\n",
       "      <td>-1.000000</td>\n",
       "      <td>-1.000000</td>\n",
       "    </tr>\n",
       "    <tr>\n",
       "      <th>25%</th>\n",
       "      <td>1.515916e+18</td>\n",
       "      <td>-1.000000</td>\n",
       "      <td>-1.000000</td>\n",
       "      <td>-1.000000</td>\n",
       "      <td>-1.000000</td>\n",
       "      <td>-1.000000</td>\n",
       "    </tr>\n",
       "    <tr>\n",
       "      <th>50%</th>\n",
       "      <td>1.515916e+18</td>\n",
       "      <td>-1.000000</td>\n",
       "      <td>-1.000000</td>\n",
       "      <td>-1.000000</td>\n",
       "      <td>-1.000000</td>\n",
       "      <td>-1.000000</td>\n",
       "    </tr>\n",
       "    <tr>\n",
       "      <th>75%</th>\n",
       "      <td>1.515916e+18</td>\n",
       "      <td>-1.000000</td>\n",
       "      <td>-1.000000</td>\n",
       "      <td>-1.000000</td>\n",
       "      <td>-1.000000</td>\n",
       "      <td>-1.000000</td>\n",
       "    </tr>\n",
       "    <tr>\n",
       "      <th>max</th>\n",
       "      <td>1.555252e+18</td>\n",
       "      <td>675.000000</td>\n",
       "      <td>528.000000</td>\n",
       "      <td>521.000000</td>\n",
       "      <td>528.000000</td>\n",
       "      <td>327.390440</td>\n",
       "    </tr>\n",
       "  </tbody>\n",
       "</table>\n",
       "</div>"
      ],
      "text/plain": [
       "            user_id  NextPurchaseDay       DayDiff      DayDiff2  \\\n",
       "count  3.504600e+04     35046.000000  35046.000000  35046.000000   \n",
       "mean   1.514161e+18         9.578554      8.132683      5.312618   \n",
       "std    1.692440e+16        58.183763     40.807500     35.368310   \n",
       "min    1.313556e+18        -1.000000     -1.000000     -1.000000   \n",
       "25%    1.515916e+18        -1.000000     -1.000000     -1.000000   \n",
       "50%    1.515916e+18        -1.000000     -1.000000     -1.000000   \n",
       "75%    1.515916e+18        -1.000000     -1.000000     -1.000000   \n",
       "max    1.555252e+18       675.000000    528.000000    521.000000   \n",
       "\n",
       "        DayDiffMean    DayDiffStd  \n",
       "count  35046.000000  35046.000000  \n",
       "mean       8.060151      2.717304  \n",
       "std       37.716419     20.148956  \n",
       "min       -1.000000     -1.000000  \n",
       "25%       -1.000000     -1.000000  \n",
       "50%       -1.000000     -1.000000  \n",
       "75%       -1.000000     -1.000000  \n",
       "max      528.000000    327.390440  "
      ]
     },
     "execution_count": 27,
     "metadata": {},
     "output_type": "execute_result"
    }
   ],
   "source": [
    "customer.describe()"
   ]
  },
  {
   "cell_type": "code",
   "execution_count": 28,
   "metadata": {},
   "outputs": [],
   "source": [
    "other_features = data.groupby('user_id', as_index=False)['price'].mean()\n",
    "#Add more if you have other handy features"
   ]
  },
  {
   "cell_type": "code",
   "execution_count": 29,
   "metadata": {},
   "outputs": [
    {
     "data": {
      "text/html": [
       "<div>\n",
       "<style scoped>\n",
       "    .dataframe tbody tr th:only-of-type {\n",
       "        vertical-align: middle;\n",
       "    }\n",
       "\n",
       "    .dataframe tbody tr th {\n",
       "        vertical-align: top;\n",
       "    }\n",
       "\n",
       "    .dataframe thead th {\n",
       "        text-align: right;\n",
       "    }\n",
       "</style>\n",
       "<table border=\"1\" class=\"dataframe\">\n",
       "  <thead>\n",
       "    <tr style=\"text-align: right;\">\n",
       "      <th></th>\n",
       "      <th>NextPurchaseDay</th>\n",
       "      <th>DayDiff</th>\n",
       "      <th>DayDiff2</th>\n",
       "      <th>DayDiffMean</th>\n",
       "      <th>DayDiffStd</th>\n",
       "      <th>price</th>\n",
       "    </tr>\n",
       "    <tr>\n",
       "      <th>user_id</th>\n",
       "      <th></th>\n",
       "      <th></th>\n",
       "      <th></th>\n",
       "      <th></th>\n",
       "      <th></th>\n",
       "      <th></th>\n",
       "    </tr>\n",
       "  </thead>\n",
       "  <tbody>\n",
       "    <tr>\n",
       "      <th>1.515916e+18</th>\n",
       "      <td>-1.0</td>\n",
       "      <td>-1.0</td>\n",
       "      <td>-1.0</td>\n",
       "      <td>-1.0</td>\n",
       "      <td>-1.0</td>\n",
       "      <td>67.78</td>\n",
       "    </tr>\n",
       "    <tr>\n",
       "      <th>1.515916e+18</th>\n",
       "      <td>-1.0</td>\n",
       "      <td>-1.0</td>\n",
       "      <td>-1.0</td>\n",
       "      <td>-1.0</td>\n",
       "      <td>-1.0</td>\n",
       "      <td>32.63</td>\n",
       "    </tr>\n",
       "    <tr>\n",
       "      <th>1.515916e+18</th>\n",
       "      <td>-1.0</td>\n",
       "      <td>-1.0</td>\n",
       "      <td>-1.0</td>\n",
       "      <td>-1.0</td>\n",
       "      <td>-1.0</td>\n",
       "      <td>75.21</td>\n",
       "    </tr>\n",
       "    <tr>\n",
       "      <th>1.515916e+18</th>\n",
       "      <td>-1.0</td>\n",
       "      <td>-1.0</td>\n",
       "      <td>-1.0</td>\n",
       "      <td>-1.0</td>\n",
       "      <td>-1.0</td>\n",
       "      <td>131.37</td>\n",
       "    </tr>\n",
       "    <tr>\n",
       "      <th>1.515916e+18</th>\n",
       "      <td>-1.0</td>\n",
       "      <td>-1.0</td>\n",
       "      <td>-1.0</td>\n",
       "      <td>-1.0</td>\n",
       "      <td>-1.0</td>\n",
       "      <td>102.60</td>\n",
       "    </tr>\n",
       "  </tbody>\n",
       "</table>\n",
       "</div>"
      ],
      "text/plain": [
       "              NextPurchaseDay  DayDiff  DayDiff2  DayDiffMean  DayDiffStd  \\\n",
       "user_id                                                                     \n",
       "1.515916e+18             -1.0     -1.0      -1.0         -1.0        -1.0   \n",
       "1.515916e+18             -1.0     -1.0      -1.0         -1.0        -1.0   \n",
       "1.515916e+18             -1.0     -1.0      -1.0         -1.0        -1.0   \n",
       "1.515916e+18             -1.0     -1.0      -1.0         -1.0        -1.0   \n",
       "1.515916e+18             -1.0     -1.0      -1.0         -1.0        -1.0   \n",
       "\n",
       "               price  \n",
       "user_id               \n",
       "1.515916e+18   67.78  \n",
       "1.515916e+18   32.63  \n",
       "1.515916e+18   75.21  \n",
       "1.515916e+18  131.37  \n",
       "1.515916e+18  102.60  "
      ]
     },
     "execution_count": 29,
     "metadata": {},
     "output_type": "execute_result"
    }
   ],
   "source": [
    "final = pd.merge(customer, other_features, on= 'user_id', how = 'left')\n",
    "\n",
    "final.set_index('user_id', inplace=True)\n",
    "final.head()"
   ]
  },
  {
   "cell_type": "markdown",
   "metadata": {},
   "source": [
    "## Version 1: make a classification task"
   ]
  },
  {
   "cell_type": "markdown",
   "metadata": {},
   "source": [
    "For the first model we are going to create labels for dataset. This may help to predict churn as well"
   ]
  },
  {
   "cell_type": "code",
   "execution_count": 30,
   "metadata": {},
   "outputs": [],
   "source": [
    "final_v1 = final.copy()"
   ]
  },
  {
   "cell_type": "code",
   "execution_count": 31,
   "metadata": {},
   "outputs": [
    {
     "data": {
      "text/plain": [
       "count    35046.000000\n",
       "mean         9.578554\n",
       "std         58.183763\n",
       "min         -1.000000\n",
       "25%         -1.000000\n",
       "50%         -1.000000\n",
       "75%         -1.000000\n",
       "max        675.000000\n",
       "Name: NextPurchaseDay, dtype: float64"
      ]
     },
     "execution_count": 31,
     "metadata": {},
     "output_type": "execute_result"
    }
   ],
   "source": [
    "final_v1.NextPurchaseDay.describe()\n",
    "\n",
    "# Use final.NextPurchaseDay.describe(np.linspace(0,1,10)) to get percentiles of data"
   ]
  },
  {
   "cell_type": "code",
   "execution_count": 32,
   "metadata": {},
   "outputs": [
    {
     "data": {
      "text/plain": [
       "count    1538.000000\n",
       "mean      240.050715\n",
       "std       146.960690\n",
       "min         0.000000\n",
       "25%       128.250000\n",
       "50%       214.000000\n",
       "75%       327.750000\n",
       "max       675.000000\n",
       "Name: NextPurchaseDay, dtype: float64"
      ]
     },
     "execution_count": 32,
     "metadata": {},
     "output_type": "execute_result"
    }
   ],
   "source": [
    "final_v1[final_v1['NextPurchaseDay'] > -1]['NextPurchaseDay'].describe() "
   ]
  },
  {
   "cell_type": "code",
   "execution_count": 33,
   "metadata": {},
   "outputs": [],
   "source": [
    "final_v1['NextPurchase'] = 2 # returnd after 214 days\n",
    "final_v1.loc[final_v1.NextPurchaseDay < 214,'NextPurchase'] = 1 #returned within 214 days\n",
    "final_v1.loc[final_v1.NextPurchaseDay == -1,'NextPurchase'] = 0 #never retained"
   ]
  },
  {
   "cell_type": "code",
   "execution_count": 34,
   "metadata": {},
   "outputs": [
    {
     "data": {
      "text/plain": [
       "0    95.611482\n",
       "2     2.197112\n",
       "1     2.191406\n",
       "Name: NextPurchase, dtype: float64"
      ]
     },
     "execution_count": 34,
     "metadata": {},
     "output_type": "execute_result"
    }
   ],
   "source": [
    "final_v1.NextPurchase.value_counts()/len(customer)*100 "
   ]
  },
  {
   "cell_type": "code",
   "execution_count": 35,
   "metadata": {},
   "outputs": [],
   "source": [
    "final_v1 = final_v1.drop(columns='NextPurchaseDay')"
   ]
  },
  {
   "cell_type": "code",
   "execution_count": 36,
   "metadata": {},
   "outputs": [
    {
     "data": {
      "text/html": [
       "<div>\n",
       "<style scoped>\n",
       "    .dataframe tbody tr th:only-of-type {\n",
       "        vertical-align: middle;\n",
       "    }\n",
       "\n",
       "    .dataframe tbody tr th {\n",
       "        vertical-align: top;\n",
       "    }\n",
       "\n",
       "    .dataframe thead th {\n",
       "        text-align: right;\n",
       "    }\n",
       "</style>\n",
       "<table border=\"1\" class=\"dataframe\">\n",
       "  <thead>\n",
       "    <tr style=\"text-align: right;\">\n",
       "      <th></th>\n",
       "      <th>DayDiff</th>\n",
       "      <th>DayDiff2</th>\n",
       "      <th>DayDiffMean</th>\n",
       "      <th>DayDiffStd</th>\n",
       "      <th>price</th>\n",
       "      <th>NextPurchase</th>\n",
       "    </tr>\n",
       "    <tr>\n",
       "      <th>user_id</th>\n",
       "      <th></th>\n",
       "      <th></th>\n",
       "      <th></th>\n",
       "      <th></th>\n",
       "      <th></th>\n",
       "      <th></th>\n",
       "    </tr>\n",
       "  </thead>\n",
       "  <tbody>\n",
       "    <tr>\n",
       "      <th>1.515916e+18</th>\n",
       "      <td>-1.0</td>\n",
       "      <td>-1.0</td>\n",
       "      <td>-1.0</td>\n",
       "      <td>-1.0</td>\n",
       "      <td>67.78</td>\n",
       "      <td>0</td>\n",
       "    </tr>\n",
       "    <tr>\n",
       "      <th>1.515916e+18</th>\n",
       "      <td>-1.0</td>\n",
       "      <td>-1.0</td>\n",
       "      <td>-1.0</td>\n",
       "      <td>-1.0</td>\n",
       "      <td>32.63</td>\n",
       "      <td>0</td>\n",
       "    </tr>\n",
       "    <tr>\n",
       "      <th>1.515916e+18</th>\n",
       "      <td>-1.0</td>\n",
       "      <td>-1.0</td>\n",
       "      <td>-1.0</td>\n",
       "      <td>-1.0</td>\n",
       "      <td>75.21</td>\n",
       "      <td>0</td>\n",
       "    </tr>\n",
       "    <tr>\n",
       "      <th>1.515916e+18</th>\n",
       "      <td>-1.0</td>\n",
       "      <td>-1.0</td>\n",
       "      <td>-1.0</td>\n",
       "      <td>-1.0</td>\n",
       "      <td>131.37</td>\n",
       "      <td>0</td>\n",
       "    </tr>\n",
       "    <tr>\n",
       "      <th>1.515916e+18</th>\n",
       "      <td>-1.0</td>\n",
       "      <td>-1.0</td>\n",
       "      <td>-1.0</td>\n",
       "      <td>-1.0</td>\n",
       "      <td>102.60</td>\n",
       "      <td>0</td>\n",
       "    </tr>\n",
       "  </tbody>\n",
       "</table>\n",
       "</div>"
      ],
      "text/plain": [
       "              DayDiff  DayDiff2  DayDiffMean  DayDiffStd   price  NextPurchase\n",
       "user_id                                                                       \n",
       "1.515916e+18     -1.0      -1.0         -1.0        -1.0   67.78             0\n",
       "1.515916e+18     -1.0      -1.0         -1.0        -1.0   32.63             0\n",
       "1.515916e+18     -1.0      -1.0         -1.0        -1.0   75.21             0\n",
       "1.515916e+18     -1.0      -1.0         -1.0        -1.0  131.37             0\n",
       "1.515916e+18     -1.0      -1.0         -1.0        -1.0  102.60             0"
      ]
     },
     "execution_count": 36,
     "metadata": {},
     "output_type": "execute_result"
    }
   ],
   "source": [
    "final_v1.head()"
   ]
  },
  {
   "cell_type": "markdown",
   "metadata": {},
   "source": [
    "### Modeling"
   ]
  },
  {
   "cell_type": "markdown",
   "metadata": {},
   "source": [
    "We have very imbalanced data. [Some of the techniques were covered in our last tutorial](https://github.com/LilitYolyan/customer_behavior_analysis/blob/master/Week_6_Churn_Analysis_Prediction.ipynb)."
   ]
  },
  {
   "cell_type": "code",
   "execution_count": 37,
   "metadata": {},
   "outputs": [],
   "source": [
    "X, y = final_v1.drop('NextPurchase',axis=1), final_v1.NextPurchase\n",
    "X_train, X_test, y_train, y_test = train_test_split(X, y, test_size=0.2, random_state=44)"
   ]
  },
  {
   "cell_type": "code",
   "execution_count": 38,
   "metadata": {},
   "outputs": [
    {
     "name": "stdout",
     "output_type": "stream",
     "text": [
      "              precision    recall  f1-score   support\n",
      "\n",
      "           0       0.96      0.97      0.96      6701\n",
      "           1       0.14      0.13      0.14       161\n",
      "           2       0.10      0.09      0.09       148\n",
      "\n",
      "    accuracy                           0.93      7010\n",
      "   macro avg       0.40      0.39      0.40      7010\n",
      "weighted avg       0.93      0.93      0.93      7010\n",
      "\n",
      "Accuracy: 0.9283880171184022\n"
     ]
    }
   ],
   "source": [
    "clf = tree.DecisionTreeClassifier()\n",
    "clf = clf.fit(X_train, y_train)\n",
    "y_pred = clf.predict(X_test)\n",
    "print(classification_report(y_test, y_pred))\n",
    "\n",
    "print(\"Accuracy:\", accuracy_score(y_test, y_pred))"
   ]
  },
  {
   "cell_type": "markdown",
   "metadata": {},
   "source": [
    "## Version 2: Classification only on retained customers"
   ]
  },
  {
   "cell_type": "markdown",
   "metadata": {},
   "source": [
    "In the next step, we will only use those customers data who have not left. Thus, we can get a more accurate model and solve the problem of imbalanced data."
   ]
  },
  {
   "cell_type": "code",
   "execution_count": 39,
   "metadata": {},
   "outputs": [
    {
     "data": {
      "text/html": [
       "<div>\n",
       "<style scoped>\n",
       "    .dataframe tbody tr th:only-of-type {\n",
       "        vertical-align: middle;\n",
       "    }\n",
       "\n",
       "    .dataframe tbody tr th {\n",
       "        vertical-align: top;\n",
       "    }\n",
       "\n",
       "    .dataframe thead th {\n",
       "        text-align: right;\n",
       "    }\n",
       "</style>\n",
       "<table border=\"1\" class=\"dataframe\">\n",
       "  <thead>\n",
       "    <tr style=\"text-align: right;\">\n",
       "      <th></th>\n",
       "      <th>NextPurchaseDay</th>\n",
       "      <th>DayDiff</th>\n",
       "      <th>DayDiff2</th>\n",
       "      <th>DayDiffMean</th>\n",
       "      <th>DayDiffStd</th>\n",
       "      <th>price</th>\n",
       "    </tr>\n",
       "    <tr>\n",
       "      <th>user_id</th>\n",
       "      <th></th>\n",
       "      <th></th>\n",
       "      <th></th>\n",
       "      <th></th>\n",
       "      <th></th>\n",
       "      <th></th>\n",
       "    </tr>\n",
       "  </thead>\n",
       "  <tbody>\n",
       "    <tr>\n",
       "      <th>1.515916e+18</th>\n",
       "      <td>437.0</td>\n",
       "      <td>0.0</td>\n",
       "      <td>53.0</td>\n",
       "      <td>27.500000</td>\n",
       "      <td>32.649655</td>\n",
       "      <td>181.250000</td>\n",
       "    </tr>\n",
       "    <tr>\n",
       "      <th>1.515916e+18</th>\n",
       "      <td>606.0</td>\n",
       "      <td>-1.0</td>\n",
       "      <td>-1.0</td>\n",
       "      <td>-1.000000</td>\n",
       "      <td>-1.000000</td>\n",
       "      <td>226.236667</td>\n",
       "    </tr>\n",
       "    <tr>\n",
       "      <th>1.515916e+18</th>\n",
       "      <td>399.0</td>\n",
       "      <td>258.0</td>\n",
       "      <td>-1.0</td>\n",
       "      <td>258.000000</td>\n",
       "      <td>-1.000000</td>\n",
       "      <td>226.610000</td>\n",
       "    </tr>\n",
       "    <tr>\n",
       "      <th>1.550613e+18</th>\n",
       "      <td>79.0</td>\n",
       "      <td>4.0</td>\n",
       "      <td>22.0</td>\n",
       "      <td>4.648936</td>\n",
       "      <td>6.070743</td>\n",
       "      <td>434.651145</td>\n",
       "    </tr>\n",
       "    <tr>\n",
       "      <th>1.515916e+18</th>\n",
       "      <td>68.0</td>\n",
       "      <td>0.0</td>\n",
       "      <td>0.0</td>\n",
       "      <td>1.194631</td>\n",
       "      <td>1.830081</td>\n",
       "      <td>470.788169</td>\n",
       "    </tr>\n",
       "  </tbody>\n",
       "</table>\n",
       "</div>"
      ],
      "text/plain": [
       "              NextPurchaseDay  DayDiff  DayDiff2  DayDiffMean  DayDiffStd  \\\n",
       "user_id                                                                     \n",
       "1.515916e+18            437.0      0.0      53.0    27.500000   32.649655   \n",
       "1.515916e+18            606.0     -1.0      -1.0    -1.000000   -1.000000   \n",
       "1.515916e+18            399.0    258.0      -1.0   258.000000   -1.000000   \n",
       "1.550613e+18             79.0      4.0      22.0     4.648936    6.070743   \n",
       "1.515916e+18             68.0      0.0       0.0     1.194631    1.830081   \n",
       "\n",
       "                   price  \n",
       "user_id                   \n",
       "1.515916e+18  181.250000  \n",
       "1.515916e+18  226.236667  \n",
       "1.515916e+18  226.610000  \n",
       "1.550613e+18  434.651145  \n",
       "1.515916e+18  470.788169  "
      ]
     },
     "execution_count": 39,
     "metadata": {},
     "output_type": "execute_result"
    }
   ],
   "source": [
    "retained = final[final['NextPurchaseDay'] != -1]\n",
    "retained.head()"
   ]
  },
  {
   "cell_type": "code",
   "execution_count": 40,
   "metadata": {},
   "outputs": [
    {
     "data": {
      "text/plain": [
       "count    1538.000000\n",
       "mean      240.050715\n",
       "std       146.960690\n",
       "min         0.000000\n",
       "33%       158.000000\n",
       "50%       214.000000\n",
       "66%       275.420000\n",
       "max       675.000000\n",
       "Name: NextPurchaseDay, dtype: float64"
      ]
     },
     "execution_count": 40,
     "metadata": {},
     "output_type": "execute_result"
    }
   ],
   "source": [
    "retained.NextPurchaseDay.describe(percentiles=[0.33, 0.66])"
   ]
  },
  {
   "cell_type": "code",
   "execution_count": 41,
   "metadata": {
    "scrolled": true
   },
   "outputs": [],
   "source": [
    "retained['NextPurchase'] = 2 # returned after 275\n",
    "retained.loc[retained.NextPurchaseDay < 275,'NextPurchase'] = 1 #returned within 158 and 275 days\n",
    "retained.loc[retained.NextPurchaseDay < 158,'NextPurchase'] = 0 # returned within 0 and 158 days"
   ]
  },
  {
   "cell_type": "code",
   "execution_count": 42,
   "metadata": {},
   "outputs": [
    {
     "data": {
      "text/html": [
       "<div>\n",
       "<style scoped>\n",
       "    .dataframe tbody tr th:only-of-type {\n",
       "        vertical-align: middle;\n",
       "    }\n",
       "\n",
       "    .dataframe tbody tr th {\n",
       "        vertical-align: top;\n",
       "    }\n",
       "\n",
       "    .dataframe thead th {\n",
       "        text-align: right;\n",
       "    }\n",
       "</style>\n",
       "<table border=\"1\" class=\"dataframe\">\n",
       "  <thead>\n",
       "    <tr style=\"text-align: right;\">\n",
       "      <th></th>\n",
       "      <th>DayDiff</th>\n",
       "      <th>DayDiff2</th>\n",
       "      <th>DayDiffMean</th>\n",
       "      <th>DayDiffStd</th>\n",
       "      <th>price</th>\n",
       "      <th>NextPurchase</th>\n",
       "    </tr>\n",
       "    <tr>\n",
       "      <th>user_id</th>\n",
       "      <th></th>\n",
       "      <th></th>\n",
       "      <th></th>\n",
       "      <th></th>\n",
       "      <th></th>\n",
       "      <th></th>\n",
       "    </tr>\n",
       "  </thead>\n",
       "  <tbody>\n",
       "    <tr>\n",
       "      <th>1.515916e+18</th>\n",
       "      <td>0.0</td>\n",
       "      <td>53.0</td>\n",
       "      <td>27.500000</td>\n",
       "      <td>32.649655</td>\n",
       "      <td>181.250000</td>\n",
       "      <td>2</td>\n",
       "    </tr>\n",
       "    <tr>\n",
       "      <th>1.515916e+18</th>\n",
       "      <td>-1.0</td>\n",
       "      <td>-1.0</td>\n",
       "      <td>-1.000000</td>\n",
       "      <td>-1.000000</td>\n",
       "      <td>226.236667</td>\n",
       "      <td>2</td>\n",
       "    </tr>\n",
       "    <tr>\n",
       "      <th>1.515916e+18</th>\n",
       "      <td>258.0</td>\n",
       "      <td>-1.0</td>\n",
       "      <td>258.000000</td>\n",
       "      <td>-1.000000</td>\n",
       "      <td>226.610000</td>\n",
       "      <td>2</td>\n",
       "    </tr>\n",
       "    <tr>\n",
       "      <th>1.550613e+18</th>\n",
       "      <td>4.0</td>\n",
       "      <td>22.0</td>\n",
       "      <td>4.648936</td>\n",
       "      <td>6.070743</td>\n",
       "      <td>434.651145</td>\n",
       "      <td>0</td>\n",
       "    </tr>\n",
       "    <tr>\n",
       "      <th>1.515916e+18</th>\n",
       "      <td>0.0</td>\n",
       "      <td>0.0</td>\n",
       "      <td>1.194631</td>\n",
       "      <td>1.830081</td>\n",
       "      <td>470.788169</td>\n",
       "      <td>0</td>\n",
       "    </tr>\n",
       "  </tbody>\n",
       "</table>\n",
       "</div>"
      ],
      "text/plain": [
       "              DayDiff  DayDiff2  DayDiffMean  DayDiffStd       price  \\\n",
       "user_id                                                                \n",
       "1.515916e+18      0.0      53.0    27.500000   32.649655  181.250000   \n",
       "1.515916e+18     -1.0      -1.0    -1.000000   -1.000000  226.236667   \n",
       "1.515916e+18    258.0      -1.0   258.000000   -1.000000  226.610000   \n",
       "1.550613e+18      4.0      22.0     4.648936    6.070743  434.651145   \n",
       "1.515916e+18      0.0       0.0     1.194631    1.830081  470.788169   \n",
       "\n",
       "              NextPurchase  \n",
       "user_id                     \n",
       "1.515916e+18             2  \n",
       "1.515916e+18             2  \n",
       "1.515916e+18             2  \n",
       "1.550613e+18             0  \n",
       "1.515916e+18             0  "
      ]
     },
     "execution_count": 42,
     "metadata": {},
     "output_type": "execute_result"
    }
   ],
   "source": [
    "retained = retained.drop(columns='NextPurchaseDay')\n",
    "retained.head()"
   ]
  },
  {
   "cell_type": "code",
   "execution_count": 43,
   "metadata": {},
   "outputs": [
    {
     "data": {
      "text/plain": [
       "2    34.200260\n",
       "0    32.964889\n",
       "1    32.834850\n",
       "Name: NextPurchase, dtype: float64"
      ]
     },
     "execution_count": 43,
     "metadata": {},
     "output_type": "execute_result"
    }
   ],
   "source": [
    "retained.NextPurchase.value_counts()/len(retained)*100 "
   ]
  },
  {
   "cell_type": "code",
   "execution_count": 44,
   "metadata": {},
   "outputs": [],
   "source": [
    "X, y = retained.drop('NextPurchase',axis=1), retained.NextPurchase\n",
    "X_train, X_test, y_train, y_test = train_test_split(X, y, test_size=0.2, random_state=44)"
   ]
  },
  {
   "cell_type": "code",
   "execution_count": 45,
   "metadata": {},
   "outputs": [
    {
     "name": "stdout",
     "output_type": "stream",
     "text": [
      "              precision    recall  f1-score   support\n",
      "\n",
      "           0       0.44      0.40      0.42       109\n",
      "           1       0.37      0.41      0.39        93\n",
      "           2       0.39      0.38      0.38       106\n",
      "\n",
      "    accuracy                           0.40       308\n",
      "   macro avg       0.40      0.40      0.40       308\n",
      "weighted avg       0.40      0.40      0.40       308\n",
      "\n",
      "Accuracy: 0.3961038961038961\n"
     ]
    }
   ],
   "source": [
    "clf = tree.DecisionTreeClassifier()\n",
    "clf = clf.fit(X_train, y_train)\n",
    "y_pred = clf.predict(X_test)\n",
    "print(classification_report(y_test, y_pred))\n",
    "\n",
    "print(\"Accuracy:\", accuracy_score(y_test, y_pred))"
   ]
  },
  {
   "cell_type": "code",
   "execution_count": 46,
   "metadata": {},
   "outputs": [
    {
     "data": {
      "image/png": "[encoded data removed]",
      "text/plain": [
       "<Figure size 432x288 with 1 Axes>"
      ]
     },
     "metadata": {
      "needs_background": "light"
     },
     "output_type": "display_data"
    }
   ],
   "source": [
    "plt.bar([x for x in range(len(clf.feature_importances_))], clf.feature_importances_)\n",
    "names = plt.xticks(np.arange(5), retained.columns[:-1])"
   ]
  }
 ],
 "metadata": {
  "kernelspec": {
   "display_name": "Python 3",
   "language": "python",
   "name": "python3"
  },
  "language_info": {
   "codemirror_mode": {
    "name": "ipython",
    "version": 3
   },
   "file_extension": ".py",
   "mimetype": "text/x-python",
   "name": "python",
   "nbconvert_exporter": "python",
   "pygments_lexer": "ipython3",
   "version": "3.8.2"
  }
 },
 "nbformat": 4,
 "nbformat_minor": 2
}
